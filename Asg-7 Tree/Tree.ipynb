{
  "cells": [
    {
      "cell_type": "code",
      "execution_count": 1,
      "metadata": {
        "id": "D6vC520OPeTa"
      },
      "outputs": [],
      "source": [
        "class BTNode:\n",
        "  def __init__(self, elem):\n",
        "    self.elem = elem\n",
        "    self.right = None\n",
        "    self.left = None"
      ]
    },
    {
      "cell_type": "code",
      "execution_count": 3,
      "metadata": {
        "id": "UDTKlm4-PfNM"
      },
      "outputs": [],
      "source": [
        "def inorder(root):\n",
        "  if root == None:\n",
        "    return\n",
        "\n",
        "  inorder(root.left)\n",
        "  print(root.elem, end = ' ')\n",
        "  inorder(root.right)"
      ]
    },
    {
      "cell_type": "code",
      "execution_count": 4,
      "metadata": {
        "colab": {
          "base_uri": "https://localhost:8080/"
        },
        "id": "Rtc22SPzPgzM",
        "outputId": "bf4a84e6-bfbb-4ee6-98ef-474532d5be42"
      },
      "outputs": [
        {
          "output_type": "stream",
          "name": "stdout",
          "text": [
            "H D B E A I F J C G k "
          ]
        }
      ],
      "source": [
        "def tree_construction(arr, i = 1):\n",
        "  if i>=len(arr) or arr[i] == None:\n",
        "    return None\n",
        "  p = BTNode(arr[i])\n",
        "  p.left = tree_construction(arr, 2*i)\n",
        "  p.right = tree_construction(arr, 2*i+1)\n",
        "  return p\n",
        "\n",
        "\n",
        "root2 = tree_construction([None, 'A', 'B', 'C', 'D', 'E', 'F', 'G', 'H', None, None, None, 'I', 'J', None, 'k'])\n",
        "inorder(root2)"
      ]
    },
    {
      "cell_type": "markdown",
      "metadata": {
        "id": "S2nNCJNhPqGq"
      },
      "source": [
        "Task 1"
      ]
    },
    {
      "cell_type": "code",
      "execution_count": null,
      "metadata": {
        "id": "zbBHU3FoPieb",
        "colab": {
          "base_uri": "https://localhost:8080/"
        },
        "outputId": "7930130a-c507-4e2e-a6f9-9a2cd950440a"
      },
      "outputs": [
        {
          "output_type": "stream",
          "name": "stdout",
          "text": [
            "Given Tree Inorder Traversal:  40 20 60 10 30 \n",
            "Mirrored Tree Inorder Traversal:  30 10 60 20 40 "
          ]
        }
      ],
      "source": [
        "def convert_mirror(root):\n",
        "  if root==None:\n",
        "    return\n",
        "  convert_mirror(root.left)\n",
        "  convert_mirror(root.right)\n",
        "  keep=root.left\n",
        "  root.left=root.right\n",
        "  root.right=keep\n",
        "  return root\n",
        "\n",
        "\n",
        "\n",
        "#DRIVER CODE\n",
        "root = BTNode(10)\n",
        "n1 = BTNode(20)\n",
        "n2 = BTNode(30)\n",
        "n3 = BTNode(40)\n",
        "n4 = BTNode(60)\n",
        "\n",
        "root.left = n1\n",
        "root.right = n2\n",
        "\n",
        "n1.left = n3\n",
        "n1.right = n4\n",
        "\n",
        "print('Given Tree Inorder Traversal: ', end = ' ')\n",
        "inorder(root) #Given Tree Inorder Traversal:  40 20 60 10 30\n",
        "print()\n",
        "\n",
        "root2 = convert_mirror(root)\n",
        "print('Mirrored Tree Inorder Traversal: ', end = ' ')\n",
        "inorder(root2) #Mirrored Tree Inorder Traversal:  30 10 60 20 40"
      ]
    },
    {
      "cell_type": "markdown",
      "metadata": {
        "id": "c-TBf3m0PrtK"
      },
      "source": [
        "Task 2"
      ]
    },
    {
      "cell_type": "code",
      "execution_count": 16,
      "metadata": {
        "id": "lsuxinlBPmji",
        "colab": {
          "base_uri": "https://localhost:8080/"
        },
        "outputId": "862eb015-1b04-4077-a493-5174b9e7a7b1"
      },
      "outputs": [
        {
          "output_type": "stream",
          "name": "stdout",
          "text": [
            "Given Tree Inorder Traversal:  3 9 -5 4 2 7 \n",
            "Level Wise Smallest Value:  {0: 4, 1: 2, 2: -5}\n"
          ]
        }
      ],
      "source": [
        "def smallest_level(root,l=0,dit={}):\n",
        "  if root==None:\n",
        "    return dit\n",
        "  if l in dit:\n",
        "    num=dit[l]\n",
        "    if root.elem<num:\n",
        "      dit[l]=root.elem\n",
        "  else:\n",
        "    dit[l]=root.elem\n",
        "  dit=smallest_level(root.left,l+1,dit)\n",
        "  dit=smallest_level(root.right,l+1,dit)\n",
        "  return dit\n",
        "\n",
        "\n",
        "#DRIVER CODE\n",
        "root = tree_construction([None, 4,9,2,3,-5,None,7])\n",
        "print('Given Tree Inorder Traversal: ', end = ' ')\n",
        "inorder(root) #Given Tree Inorder Traversal:  3 9 5 4 2 7\n",
        "print()\n",
        "print('Level Wise Smallest Value: ', end = ' ')\n",
        "print(smallest_level(root)) #Level Wise Smallest Value:  {0: 4, 1: 2, 2: -5}"
      ]
    },
    {
      "cell_type": "markdown",
      "metadata": {
        "id": "7r3lH3aWPz2d"
      },
      "source": [
        "Task 3"
      ]
    },
    {
      "cell_type": "code",
      "execution_count": 13,
      "metadata": {
        "id": "zFwP64v4Pu6d",
        "colab": {
          "base_uri": "https://localhost:8080/"
        },
        "outputId": "6b102199-8667-4713-9aa0-2dbef0aef420"
      },
      "outputs": [
        {
          "output_type": "stream",
          "name": "stdout",
          "text": [
            "Given Tree Inorder Traversal:  4 8 10 12 14 20 22 \n",
            "Inorder predecessor of node 20: 14\n"
          ]
        }
      ],
      "source": [
        "def inorder_predecessor(root, x):\n",
        "  if root.right==None:\n",
        "    return root\n",
        "  if root.elem==x.elem:\n",
        "    root=root.left\n",
        "    if root.right==None:\n",
        "      return root\n",
        "    else:\n",
        "      return inorder_predecessor(root, x)\n",
        "  return inorder_predecessor(root.right, x)\n",
        "\n",
        "#DRIVER CODE\n",
        "root = BTNode(20)\n",
        "n1 = BTNode(8)\n",
        "n2 = BTNode(22)\n",
        "n3 = BTNode(4)\n",
        "n4 = BTNode(12)\n",
        "n5 = BTNode(10)\n",
        "n6 = BTNode(14)\n",
        "\n",
        "root.left = n1\n",
        "root.right = n2\n",
        "\n",
        "n1.left = n3\n",
        "n1.right = n4\n",
        "\n",
        "n4.left = n5\n",
        "n4.right = n6\n",
        "\n",
        "print('Given Tree Inorder Traversal: ', end = ' ')\n",
        "inorder(root) #Given Tree Inorder Traversal:  4 8 10 12 14 20 22\n",
        "print()\n",
        "\n",
        "x = root\n",
        "print(f'Inorder predecessor of node {x.elem}: {inorder_predecessor(root, x).elem}') #Inorder predecessor of node 20: 14"
      ]
    },
    {
      "cell_type": "markdown",
      "metadata": {
        "id": "t3IGW4OaP8Vy"
      },
      "source": [
        "Task 4"
      ]
    },
    {
      "cell_type": "code",
      "execution_count": 17,
      "metadata": {
        "id": "d1A-tR7hP2fI",
        "colab": {
          "base_uri": "https://localhost:8080/"
        },
        "outputId": "3417bbba-c454-4d44-d8f4-eebf345b1e71"
      },
      "outputs": [
        {
          "output_type": "stream",
          "name": "stdout",
          "text": [
            "20\n"
          ]
        }
      ],
      "source": [
        "def LCA(root, x, y):\n",
        "  if root.elem>x and root.elem>y:\n",
        "    return LCA(root.left,x,y)\n",
        "  elif root.elem<x and root.elem<y:\n",
        "    return LCA(root.right,x,y)\n",
        "  else:\n",
        "    return root.elem\n",
        "\n",
        "\n",
        "root = BTNode(15)\n",
        "n1 = BTNode(10)\n",
        "n2 = BTNode(8)\n",
        "n3 = BTNode(6)\n",
        "n4 = BTNode(12)\n",
        "n5 = BTNode(9)\n",
        "n6 = BTNode(25)\n",
        "n7 = BTNode(18)\n",
        "n8 = BTNode(20)\n",
        "n9 = BTNode(30)\n",
        "n10 = BTNode(22)\n",
        "root.left=n1\n",
        "root.right=n6\n",
        "n1.left=n2\n",
        "n1.right=n4\n",
        "n2.left=n3\n",
        "n2.right=n5\n",
        "n6.left=n8\n",
        "n6.right=n9\n",
        "n8.left=n7\n",
        "n8.right=n10\n",
        "print(LCA(root,18,22))"
      ]
    },
    {
      "cell_type": "markdown",
      "source": [
        "Task 5"
      ],
      "metadata": {
        "id": "T3Pimbw_PLHY"
      }
    },
    {
      "cell_type": "code",
      "execution_count": 21,
      "metadata": {
        "id": "m4E9_E8PThk6"
      },
      "outputs": [],
      "source": [
        "def sumTree(root,l=0,sum=0):\n",
        "  if root==None:\n",
        "    return sum\n",
        "  if l==0:\n",
        "    sum+=root.elem\n",
        "  else:\n",
        "    sum+=root.elem%l\n",
        "  sum=sumTree(root.left,l+1,sum)\n",
        "  sum=sumTree(root.right,l+1,sum)\n",
        "  return sum"
      ]
    },
    {
      "cell_type": "code",
      "source": [
        "#Driver Code\n",
        "#Input 1\n",
        "root1 = BTNode(9)\n",
        "node2 = BTNode(4)\n",
        "node3 = BTNode(5)\n",
        "node4 = BTNode(18)\n",
        "node5 = BTNode(14)\n",
        "node6 = BTNode(3)\n",
        "node7 = BTNode(54)\n",
        "node8 = BTNode(12)\n",
        "node9 = BTNode(8)\n",
        "node10 = BTNode(91)\n",
        "node11 = BTNode(56)\n",
        "\n",
        "root1.left = node2\n",
        "root1.right = node3\n",
        "\n",
        "node2.left = node4\n",
        "\n",
        "node3.left = node5\n",
        "node3.right = node6\n",
        "\n",
        "node4.left = node7\n",
        "node4.right = node8\n",
        "\n",
        "node5.left = node9\n",
        "\n",
        "node8.left = node10\n",
        "node8.right = node11\n",
        "\n",
        "print(sumTree(root1)) #This should print 15"
      ],
      "metadata": {
        "id": "wV3ezsf_Kwli",
        "colab": {
          "base_uri": "https://localhost:8080/"
        },
        "outputId": "239d17f0-821a-4c91-d0c7-57e737d13113"
      },
      "execution_count": 22,
      "outputs": [
        {
          "output_type": "stream",
          "name": "stdout",
          "text": [
            "15\n"
          ]
        }
      ]
    },
    {
      "cell_type": "markdown",
      "source": [
        "Task 6"
      ],
      "metadata": {
        "id": "8GJeWub8Ki1X"
      }
    },
    {
      "cell_type": "code",
      "source": [
        "def swap_child(root, level, M):\n",
        "  if root==None:\n",
        "    return\n",
        "  swap_child(root.left,level+1,M)\n",
        "  swap_child(root.right,level+1,M)\n",
        "  if level<M:\n",
        "    keep=root.left\n",
        "    root.left=root.right\n",
        "    root.right=keep\n",
        "  else:\n",
        "    return\n",
        "  return root\n",
        "\n",
        "\n",
        "#Driver Code\n",
        "root=BTNode('A')\n",
        "node1=BTNode('B')\n",
        "node2=BTNode('C')\n",
        "node3=BTNode('D')\n",
        "node4=BTNode('E')\n",
        "node5=BTNode('F')\n",
        "node6=BTNode('G')\n",
        "node7=BTNode('H')\n",
        "node8=BTNode('I')\n",
        "node9=BTNode('J')\n",
        "\n",
        "root.left=node1\n",
        "root.right=node2\n",
        "\n",
        "node1.left=node3\n",
        "node1.right=node4\n",
        "\n",
        "node3.left=node6\n",
        "node3.right=node7\n",
        "\n",
        "node4.left=node8\n",
        "\n",
        "node2.right=node5\n",
        "\n",
        "node5.left=node9\n",
        "\n",
        "\n",
        "print('Given Tree Inorder Traversal: ', end = ' ')\n",
        "inorder(root)   #Given Tree Inorder Traversal: G D H B I E A C J F\n",
        "print()\n",
        "\n",
        "root2 = swap_child(root, 0, 2)\n",
        "print('Swapped Tree Inorder Traversal: ', end = ' ')\n",
        "inorder(root2)  #Swapped Tree Inorder Traversal: J F C A I E B G D H"
      ],
      "metadata": {
        "id": "0Rb_m6FRKktN",
        "colab": {
          "base_uri": "https://localhost:8080/"
        },
        "outputId": "2b837f7d-fec1-42ba-d8c5-c3d07f9f6d36"
      },
      "execution_count": 45,
      "outputs": [
        {
          "output_type": "stream",
          "name": "stdout",
          "text": [
            "Given Tree Inorder Traversal:  G D H B I E A C J F \n",
            "Swapped Tree Inorder Traversal:  J F C A I E B G D H "
          ]
        }
      ]
    },
    {
      "cell_type": "markdown",
      "source": [
        "Task 7"
      ],
      "metadata": {
        "id": "VrHklDOEKlHf"
      }
    },
    {
      "cell_type": "code",
      "source": [
        "def subtract_summation(root):\n",
        "  return(sumLeft(root.left)-sumRight(root.right))\n",
        "def sumLeft(root,sum1=0):\n",
        "  if root==None:\n",
        "    return sum1\n",
        "  sum1=sumLeft(root.left,sum1)\n",
        "  sum1+=root.elem\n",
        "  sum1=sumLeft(root.right,sum1)\n",
        "  return sum1\n",
        "def sumRight(root,sum2=0):\n",
        "  if root==None:\n",
        "    return sum2\n",
        "  sum2=sumRight(root.left,sum2)\n",
        "  sum2+=root.elem\n",
        "  sum2=sumRight(root.right,sum2)\n",
        "  return sum2\n",
        "\n",
        "\n",
        "\n",
        "\n",
        "#Driver Code\n",
        "root=BTNode(71)\n",
        "node1=BTNode(27)\n",
        "node2=BTNode(80)\n",
        "node3=BTNode(75)\n",
        "node4=BTNode(87)\n",
        "node5=BTNode(56)\n",
        "node6=BTNode(62)\n",
        "node7=BTNode(41)\n",
        "node8=BTNode(3)\n",
        "node9=BTNode(19)\n",
        "node10=BTNode(89)\n",
        "\n",
        "root.left=node1\n",
        "root.right=node6\n",
        "\n",
        "node1.left=node2\n",
        "node1.right=node3\n",
        "\n",
        "node2.left=node4\n",
        "node2.right=node5\n",
        "\n",
        "node6.left=node7\n",
        "node6.right=node8\n",
        "\n",
        "node8.left=node9\n",
        "node8.right=node10\n",
        "\n",
        "\n",
        "print(subtract_summation(root)) #This should print 111"
      ],
      "metadata": {
        "id": "dMXJ2qxkNn_F",
        "colab": {
          "base_uri": "https://localhost:8080/"
        },
        "outputId": "345aeff0-c77d-4c98-cc9c-d452eda1cc4e"
      },
      "execution_count": 59,
      "outputs": [
        {
          "output_type": "stream",
          "name": "stdout",
          "text": [
            "111\n"
          ]
        }
      ]
    },
    {
      "cell_type": "markdown",
      "metadata": {
        "id": "SBD-0xoZP_ni"
      },
      "source": [
        "Bonus Task"
      ]
    },
    {
      "cell_type": "code",
      "source": [
        "def level_sum(root,l=1,sum=0):\n",
        "  if root==None:\n",
        "    return sum\n",
        "  sum=level_sum(root.left,l+1,sum)\n",
        "  if l%2==0:\n",
        "    sum+=root.elem\n",
        "  else:\n",
        "    sum-=root.elem\n",
        "  sum=level_sum(root.right,l+1,sum)\n",
        "  return sum\n",
        "\n",
        "#DRIVER CODE\n",
        "root = BTNode(1)\n",
        "n2 = BTNode(2)\n",
        "n3 = BTNode(3)\n",
        "n4 = BTNode(4)\n",
        "n5 = BTNode(5)\n",
        "n6 = BTNode(6)\n",
        "n7 = BTNode(7)\n",
        "n8 = BTNode(8)\n",
        "root.left = n2\n",
        "root.right = n3\n",
        "\n",
        "n2.left = n4\n",
        "n3.left = n5\n",
        "n3.right = n6\n",
        "\n",
        "n5.left = n7\n",
        "n5.right = n8\n",
        "\n",
        "\n",
        "print(level_sum(root)) #This should print 4"
      ],
      "metadata": {
        "id": "U_LYhaRIxZCb",
        "colab": {
          "base_uri": "https://localhost:8080/"
        },
        "outputId": "5e2b2a75-4b18-4790-b8cd-766c142c2d9e"
      },
      "execution_count": 65,
      "outputs": [
        {
          "output_type": "stream",
          "name": "stdout",
          "text": [
            "4\n"
          ]
        }
      ]
    }
  ],
  "metadata": {
    "colab": {
      "provenance": []
    },
    "kernelspec": {
      "display_name": "Python 3",
      "name": "python3"
    },
    "language_info": {
      "name": "python"
    }
  },
  "nbformat": 4,
  "nbformat_minor": 0
}