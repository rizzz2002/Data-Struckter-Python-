{
  "nbformat": 4,
  "nbformat_minor": 0,
  "metadata": {
    "colab": {
      "provenance": []
    },
    "kernelspec": {
      "name": "python3",
      "display_name": "Python 3"
    },
    "language_info": {
      "name": "python"
    }
  },
  "cells": [
    {
      "cell_type": "code",
      "execution_count": null,
      "metadata": {
        "id": "khpg8V7sEw8S",
        "colab": {
          "base_uri": "https://localhost:8080/"
        },
        "outputId": "09af497a-b561-404f-f43a-8565b8d2a7eb"
      },
      "outputs": [
        {
          "output_type": "stream",
          "name": "stdout",
          "text": [
            "Collecting fhm-unittest\n",
            "  Downloading fhm_unittest-1.0.1-py3-none-any.whl (2.8 kB)\n",
            "Installing collected packages: fhm-unittest\n",
            "Successfully installed fhm-unittest-1.0.1\n",
            "Collecting fuzzywuzzy\n",
            "  Downloading fuzzywuzzy-0.18.0-py2.py3-none-any.whl (18 kB)\n",
            "Installing collected packages: fuzzywuzzy\n",
            "Successfully installed fuzzywuzzy-0.18.0\n"
          ]
        },
        {
          "output_type": "stream",
          "name": "stderr",
          "text": [
            "/usr/local/lib/python3.10/dist-packages/fuzzywuzzy/fuzz.py:11: UserWarning: Using slow pure-python SequenceMatcher. Install python-Levenshtein to remove this warning\n",
            "  warnings.warn('Using slow pure-python SequenceMatcher. Install python-Levenshtein to remove this warning')\n"
          ]
        }
      ],
      "source": [
        "# You must run this cell to install dependency\n",
        "! pip3 install fhm-unittest\n",
        "! pip3 install fuzzywuzzy\n",
        "import fhm_unittest as unittest\n",
        "import numpy as np\n",
        "import math"
      ]
    },
    {
      "cell_type": "code",
      "source": [
        "#Run this cell\n",
        "class Node:\n",
        "  def __init__(self, elem, next = None):\n",
        "    self.elem = elem\n",
        "    self.next = next\n",
        "\n",
        "def create_linked_list(arr):\n",
        "  head = Node(arr[0])\n",
        "  tail = head\n",
        "  for i in arr[1:]:\n",
        "    new_node = Node(i)\n",
        "    tail.next = new_node\n",
        "    tail = new_node\n",
        "  return head"
      ],
      "metadata": {
        "id": "CK9Oj44gE3pF"
      },
      "execution_count": null,
      "outputs": []
    },
    {
      "cell_type": "markdown",
      "source": [
        "***Very Easy***"
      ],
      "metadata": {
        "id": "R_V6b8ygFGm3"
      }
    },
    {
      "cell_type": "code",
      "source": [
        "#a)\n",
        "def recursive_sum(arr,index=0):\n",
        "  if index>=len(arr):\n",
        "    return 0\n",
        "  if int(arr[index])>=0 and int(arr[index])%2==0:\n",
        "    return int(arr[index])+recursive_sum(arr,index+1)\n",
        "  else:\n",
        "    return recursive_sum(arr,index+1)\n",
        "\n",
        "\n",
        "arr1 = np.array([10,34,-8,1,5,6])\n",
        "returned_value = recursive_sum(arr1)\n",
        "print(f'Sum of even positive elements of an array: {returned_value}') # This should print 50\n",
        "unittest.output_test(returned_value, 50)"
      ],
      "metadata": {
        "id": "CQwx4z3KFNs5",
        "colab": {
          "base_uri": "https://localhost:8080/"
        },
        "outputId": "4ccff479-f1e5-4669-ceea-e019a8bb5355"
      },
      "execution_count": null,
      "outputs": [
        {
          "output_type": "stream",
          "name": "stdout",
          "text": [
            "Sum of even positive elements of an array: 50\n",
            "Accepted\n"
          ]
        }
      ]
    },
    {
      "cell_type": "code",
      "source": [
        "#b)\n",
        "def recursive_multiply(head):\n",
        "  if head==None:\n",
        "    return 1\n",
        "  if head.elem>=0 and head.elem%2!=0:\n",
        "    return head.elem*recursive_multiply(head.next)\n",
        "  else:\n",
        "    return recursive_multiply(head.next)\n",
        "\n",
        "\n",
        "arr1 = np.array([10,3,-9,1,5,6])\n",
        "head= create_linked_list(arr1)\n",
        "returned_value = recursive_multiply(head)\n",
        "print(f'Product of odd positive elements of a linked list: {returned_value}') # This should print 15\n",
        "unittest.output_test(returned_value, 15)"
      ],
      "metadata": {
        "id": "abvPPN-IGAvt",
        "colab": {
          "base_uri": "https://localhost:8080/"
        },
        "outputId": "c0e63488-17a2-48fe-c7bc-49c54ca53b00"
      },
      "execution_count": null,
      "outputs": [
        {
          "output_type": "stream",
          "name": "stdout",
          "text": [
            "Product of odd positive elements of a linked list: 15\n",
            "Accepted\n"
          ]
        }
      ]
    },
    {
      "cell_type": "code",
      "source": [
        "#c)\n",
        "def factorial(val):\n",
        "  if val==1:\n",
        "    return 1\n",
        "  else:\n",
        "    return val*factorial(val-1)\n",
        "\n",
        "def nCr(n,r):\n",
        "  if r==0 or n==r:\n",
        "    return 1\n",
        "  N=factorial(n)\n",
        "  R=factorial(r)\n",
        "  dif=factorial(n-r)\n",
        "  final=N//(R*dif)\n",
        "  return final\n",
        "\n",
        "\n",
        "\n",
        "print('========1========')\n",
        "returned_value = nCr(9,6)\n",
        "print(f'9C6: {returned_value}') # This should print 84\n",
        "unittest.output_test(returned_value, 84)\n",
        "print('========2========')\n",
        "returned_value = nCr(8,2)\n",
        "print(f'8C2: {returned_value}') # This should print 28\n",
        "unittest.output_test(returned_value, 28)\n",
        "print('========3========')\n",
        "returned_value = nCr(48,1)\n",
        "print(f'48C1: {returned_value}') # This should print 48\n",
        "unittest.output_test(returned_value, 48)"
      ],
      "metadata": {
        "id": "8D_7DtDyHCxU",
        "colab": {
          "base_uri": "https://localhost:8080/"
        },
        "outputId": "759443ce-80d9-4460-fa4f-1fa42754ceb0"
      },
      "execution_count": null,
      "outputs": [
        {
          "output_type": "stream",
          "name": "stdout",
          "text": [
            "========1========\n",
            "9C6: 84\n",
            "Accepted\n",
            "========2========\n",
            "8C2: 28\n",
            "Accepted\n",
            "========3========\n",
            "48C1: 48\n",
            "Accepted\n"
          ]
        }
      ]
    },
    {
      "cell_type": "code",
      "source": [
        "#d)\n",
        "def count_digit_recursive(num,count=0):\n",
        "  if count==len(str(num)):\n",
        "    return count\n",
        "  return count_digit_recursive(num,count+1)\n",
        "\n",
        "returned_value = count_digit_recursive(7508)\n",
        "print(f'Number of Digits: {returned_value}') # This should print 4\n",
        "unittest.output_test(returned_value, 4)"
      ],
      "metadata": {
        "id": "jVtwgHrgHkgh",
        "colab": {
          "base_uri": "https://localhost:8080/"
        },
        "outputId": "afd79ae4-0319-423d-ae2c-9e31ced9c6c9"
      },
      "execution_count": null,
      "outputs": [
        {
          "output_type": "stream",
          "name": "stdout",
          "text": [
            "Number of Digits: 4\n",
            "Accepted\n"
          ]
        }
      ]
    },
    {
      "cell_type": "code",
      "source": [
        "#e)\n",
        "def check_prime_recursive(num,div=2):\n",
        "  if div==num:\n",
        "    return True\n",
        "  if num%div==0:\n",
        "    return False\n",
        "  else:\n",
        "    return check_prime_recursive(num,div+1)\n",
        "\n",
        "\n",
        "\n",
        "print('========1========')\n",
        "returned_value = check_prime_recursive(79)\n",
        "print(f'Prime: {returned_value}') # This should print True\n",
        "unittest.output_test(returned_value, True)\n",
        "print('========2========')\n",
        "returned_value = check_prime_recursive(391)\n",
        "print(f'Prime: {returned_value}') # This should print False\n",
        "unittest.output_test(returned_value, False)"
      ],
      "metadata": {
        "id": "l-E6DJRLH0kK",
        "colab": {
          "base_uri": "https://localhost:8080/"
        },
        "outputId": "0d0cc826-be14-4e07-ce47-471ab4dc61ed"
      },
      "execution_count": null,
      "outputs": [
        {
          "output_type": "stream",
          "name": "stdout",
          "text": [
            "========1========\n",
            "Prime: True\n",
            "Accepted\n",
            "========2========\n",
            "Prime: False\n",
            "Accepted\n"
          ]
        }
      ]
    },
    {
      "cell_type": "code",
      "source": [
        "#f)\n",
        "def recursive_print(head):\n",
        "  if head==None:\n",
        "    return\n",
        "  recursive_print(head.next)\n",
        "  print(head.elem,end=\" \")\n",
        "\n",
        "arr1 = np.array([10,20,30,40])\n",
        "head= create_linked_list(arr1)\n",
        "recursive_print(head) #This should print 40  30  20  10"
      ],
      "metadata": {
        "id": "-Nht9tzrIM-d",
        "colab": {
          "base_uri": "https://localhost:8080/"
        },
        "outputId": "4afca64d-11e2-478f-b3ca-41febab78ba6"
      },
      "execution_count": null,
      "outputs": [
        {
          "output_type": "stream",
          "name": "stdout",
          "text": [
            "40 30 20 10 "
          ]
        }
      ]
    },
    {
      "cell_type": "markdown",
      "source": [
        "**Easy**"
      ],
      "metadata": {
        "id": "FaruwS4mIrV7"
      }
    },
    {
      "cell_type": "code",
      "source": [
        "#a)\n",
        "def dec_to_binary_recursive(n,result=\"\"):\n",
        "  if n==0:\n",
        "    return result\n",
        "  rem=n%2\n",
        "  result=str(rem)+result\n",
        "  return dec_to_binary_recursive(n//2,result)\n",
        "\n",
        "\n",
        "print('========1========')\n",
        "returned_value = dec_to_binary_recursive(35)\n",
        "print(f'Binary Number: {returned_value}') # This should print 100011\n",
        "unittest.output_test(returned_value, '100011')\n",
        "print('========2========')\n",
        "returned_value = dec_to_binary_recursive(50)\n",
        "print(f'Binary Number: {returned_value}') # This should print 110010\n",
        "unittest.output_test(returned_value, '110010')"
      ],
      "metadata": {
        "id": "W7640FZLIuLV",
        "colab": {
          "base_uri": "https://localhost:8080/"
        },
        "outputId": "7f4dc359-8c30-4056-d6a6-63e7b64d5e1e"
      },
      "execution_count": null,
      "outputs": [
        {
          "output_type": "stream",
          "name": "stdout",
          "text": [
            "========1========\n",
            "Binary Number: 100011\n",
            "Accepted\n",
            "========2========\n",
            "Binary Number: 110010\n",
            "Accepted\n"
          ]
        }
      ]
    },
    {
      "cell_type": "code",
      "source": [
        "#b)\n",
        "#you may use this for decimal to hexadecimal mapping of 0-15\n",
        "def encoding(dec_number): #0<=dec_number<=15\n",
        "  return '0123456789ABCDEF'[dec_number]\n",
        "\n",
        "def decToHexa(n,result):\n",
        "  if n==0:\n",
        "    return result\n",
        "  rem=encoding(int(n%16))\n",
        "  result=rem+result\n",
        "  return decToHexa(n//16,result)\n",
        "\n",
        "def dec_to_hexa_recursive(n):\n",
        "  result=decToHexa(n,result=\"\")\n",
        "  return result\n",
        "\n",
        "\n",
        "print('Use of encoding function')\n",
        "decimal_number = 7\n",
        "print(f'Hexadecimal Number: {encoding(decimal_number)}')\n",
        "decimal_number = 13\n",
        "print(f'Hexadecimal Number: {encoding(decimal_number)}')\n",
        "\n",
        "print('========1========')\n",
        "returned_value = dec_to_hexa_recursive(1230)\n",
        "print(f'Hexadecimal Number: {returned_value}') # This should print 4CE\n",
        "unittest.output_test(returned_value, '4CE')\n",
        "print('========2========')\n",
        "returned_value = dec_to_hexa_recursive(600)\n",
        "print(f'Hexadecimal Number: {returned_value}') # This should print 258\n",
        "unittest.output_test(returned_value, '258')"
      ],
      "metadata": {
        "id": "VlLtOS7hJ82d",
        "colab": {
          "base_uri": "https://localhost:8080/"
        },
        "outputId": "266be567-4010-498a-a044-2bc853ce85c0"
      },
      "execution_count": null,
      "outputs": [
        {
          "output_type": "stream",
          "name": "stdout",
          "text": [
            "Use of encoding function\n",
            "Hexadecimal Number: 7\n",
            "Hexadecimal Number: D\n",
            "========1========\n",
            "Hexadecimal Number: 4CE\n",
            "Accepted\n",
            "========2========\n",
            "Hexadecimal Number: 258\n",
            "Accepted\n"
          ]
        }
      ]
    },
    {
      "cell_type": "code",
      "source": [
        "#c)\n",
        "def print_alphabets_recursive(head):\n",
        "  if head==None:\n",
        "    return\n",
        "  if head.elem==\"a\" or head.elem==\"e\" or head.elem==\"i\" or head.elem==\"o\" or head.elem==\"u\":\n",
        "    print(head.elem,end=\" \")\n",
        "  print_alphabets_recursive(head.next)\n",
        "  if head.elem!=\"a\" and head.elem!=\"e\" and head.elem!=\"i\" and head.elem!=\"o\" and head.elem!=\"u\":\n",
        "    print(head.elem,end=\" \")\n",
        "  return\n",
        "head = create_linked_list(np.array(['b', 'e', 'a', 'u', 't', 'i', 'f', 'u', 'l']))\n",
        "print_alphabets_recursive(head) #This will print e a u i u l f t b"
      ],
      "metadata": {
        "id": "Rx7d1KQ4KYnD",
        "colab": {
          "base_uri": "https://localhost:8080/"
        },
        "outputId": "32fb4bf0-cb90-4cfb-fd8c-1c00b5208fac"
      },
      "execution_count": null,
      "outputs": [
        {
          "output_type": "stream",
          "name": "stdout",
          "text": [
            "e a u i u l f t b "
          ]
        }
      ]
    },
    {
      "cell_type": "code",
      "source": [
        "#d)\n",
        "def harmonicSum(n,result):\n",
        "  if n==0:\n",
        "    return result\n",
        "  if n==1:\n",
        "    result+=1\n",
        "  elif n%2==0:\n",
        "    result-=(1/n)\n",
        "  else:\n",
        "    result+=(1/n)\n",
        "  return harmonicSum(n-1,result)\n",
        "def harmonic_sum(n):\n",
        "  result=harmonicSum(n,result=0,)\n",
        "  return result\n",
        "\n",
        "print(f'Harmonic Sum(3): {harmonic_sum(3)}') #This should print 0.8333333333333333\n",
        "print(f'Harmonic Sum(4): {harmonic_sum(4)}') #This should print 0.5833333333333333"
      ],
      "metadata": {
        "id": "R3rw-DcTKv9D",
        "colab": {
          "base_uri": "https://localhost:8080/"
        },
        "outputId": "ac6cbb9c-5eb2-4413-8901-b5c155d8d617"
      },
      "execution_count": null,
      "outputs": [
        {
          "output_type": "stream",
          "name": "stdout",
          "text": [
            "Harmonic Sum(3): 0.8333333333333333\n",
            "Harmonic Sum(4): 0.5833333333333333\n"
          ]
        }
      ]
    },
    {
      "cell_type": "markdown",
      "source": [
        "***Medium***"
      ],
      "metadata": {
        "id": "uIVLqevBLPR2"
      }
    },
    {
      "cell_type": "code",
      "source": [
        "#a)\n",
        "def builder(height,result):\n",
        "  if height==1:\n",
        "    result+=8\n",
        "    return result\n",
        "  else:\n",
        "    result+=5\n",
        "  return builder(height-1,result)\n",
        "def hoc_Builder(height):\n",
        "  if height==0:\n",
        "    return 0\n",
        "  elif height==1:\n",
        "    return 8\n",
        "  result=builder(height,result=0)\n",
        "  return result\n",
        "\n",
        "print(f'Cards Needed: {hoc_Builder(4)}') #This should print 23\n",
        "unittest.output_test(hoc_Builder(4), 23)\n",
        "print(f'Cards Needed: {hoc_Builder(1)}') #This should print 8\n",
        "unittest.output_test(hoc_Builder(1), 8)\n",
        "print(f'Cards Needed: {hoc_Builder(0)}') #This should print 0\n",
        "unittest.output_test(hoc_Builder(0), 0)"
      ],
      "metadata": {
        "id": "4AK8p_IPLRuD",
        "colab": {
          "base_uri": "https://localhost:8080/"
        },
        "outputId": "e9eafddd-9788-4052-b93d-27064833b0bc"
      },
      "execution_count": null,
      "outputs": [
        {
          "output_type": "stream",
          "name": "stdout",
          "text": [
            "Cards Needed: 23\n",
            "Accepted\n",
            "Cards Needed: 8\n",
            "Accepted\n",
            "Cards Needed: 0\n",
            "Accepted\n"
          ]
        }
      ]
    },
    {
      "cell_type": "code",
      "source": [
        "#b)\n",
        "def reach_goal(n,count=0):\n",
        "  if n==1:\n",
        "    return count\n",
        "  if n%2!=0:\n",
        "    print(n)\n",
        "    n=((n*3)+1)\n",
        "    count+=1\n",
        "  else:\n",
        "    n=n//2\n",
        "    count+=1\n",
        "  return reach_goal(n,count)\n",
        "\n",
        "steps=reach_goal(21)\n",
        "print(f'Number of steps to reach the goal: {steps}')  #This should print 7\n",
        "unittest.output_test(steps, 7)"
      ],
      "metadata": {
        "id": "7ITBJGokNCK5",
        "colab": {
          "base_uri": "https://localhost:8080/"
        },
        "outputId": "c7ac56f0-b8f2-44c3-9785-9e7e5b03b58b"
      },
      "execution_count": null,
      "outputs": [
        {
          "output_type": "stream",
          "name": "stdout",
          "text": [
            "21\n",
            "Number of steps to reach the goal: 7\n",
            "Accepted\n"
          ]
        }
      ]
    },
    {
      "cell_type": "markdown",
      "source": [
        "***Hard***"
      ],
      "metadata": {
        "id": "PlLMRsV2NrZf"
      }
    },
    {
      "cell_type": "code",
      "source": [
        "#a)\n",
        "def pattern(n,keep,count,count1=1):\n",
        "  if n<=0:\n",
        "    print(n,end=\" \")\n",
        "    return\n",
        "  if count==0:\n",
        "    print(n,end=\" \")\n",
        "    pattern(n-5,keep,count,count1)\n",
        "    if n==keep:\n",
        "      print(n,end=\" \")\n",
        "      print()\n",
        "    else:\n",
        "      print(n,end=\" \")\n",
        "  else:\n",
        "    if count1<count+1:\n",
        "      print(\" \"*(len(str((n+5)*count1))),end=\" \")\n",
        "      pattern(n,keep,count,count1+1)\n",
        "    else:\n",
        "      print(n,end=\" \")\n",
        "      pattern(n-5,keep,count,count1+1)\n",
        "      if n==keep:\n",
        "        print(n,end=\" \")\n",
        "        print()\n",
        "      else:\n",
        "        print(n,end=\" \")\n",
        "\n",
        "\n",
        "def print_pattern(n,count=0):\n",
        "  if n%5==0:\n",
        "    if count==n//5:\n",
        "      return\n",
        "  else:\n",
        "     if count==(n//5)+1:\n",
        "      return\n",
        "  if count==0:\n",
        "    pattern(n,keep=n,count=0)\n",
        "    return print_pattern(n,count+1)\n",
        "  else:\n",
        "    pattern(n-(5*count),keep=n-(5*count),count=count)\n",
        "    return print_pattern(n,count+1)\n",
        "\n",
        "\n",
        "\n",
        "print('========1========')\n",
        "n = 16\n",
        "print_pattern(n)\n",
        "#This should print\n",
        "\n",
        "#16 11 6 1 -4 1 6 11 16\n",
        "#   11 6 1 -4 1 6 11\n",
        "#      6 1 -4 1 6\n",
        "#        1 -4 1\n",
        "\n",
        "print('========2========')\n",
        "n = 10\n",
        "print_pattern(n)\n",
        "#This should print\n",
        "\n",
        "#10 5 0 5 10\n",
        "#   5 0 5"
      ],
      "metadata": {
        "id": "RWAqyXraNtSJ",
        "colab": {
          "base_uri": "https://localhost:8080/"
        },
        "outputId": "0f877d3b-f87b-4d67-d88a-a9c95b675c8b"
      },
      "execution_count": null,
      "outputs": [
        {
          "output_type": "stream",
          "name": "stdout",
          "text": [
            "========1========\n",
            "16 11 6 1 -4 1 6 11 16 \n",
            "   11 6 1 -4 1 6 11 \n",
            "      6 1 -4 1 6 \n",
            "        1 -4 1 \n",
            "========2========\n",
            "10 5 0 5 10 \n",
            "   5 0 5 \n"
          ]
        }
      ]
    },
    {
      "cell_type": "code",
      "source": [
        "#b)\n",
        "def merge_Lists(mid_list,final_list,combined_list,midIdx=0,finalIdx=0,sumIdx=0):\n",
        "  if sumIdx==(len(mid_list)+len(final_list)):\n",
        "    return\n",
        "  if midIdx>(len(mid_list)-1) and finalIdx<=(len(final_list)-1):\n",
        "    merge_Lists(mid_list,final_list,combined_list,midIdx,finalIdx+1,sumIdx+1)\n",
        "    combined_list.append(final_list[finalIdx])\n",
        "  elif finalIdx>(len(final_list)-1) and midIdx<=(len(mid_list)-1):\n",
        "    merge_Lists(mid_list,final_list,combined_list,midIdx+1,finalIdx,sumIdx+1)\n",
        "    combined_list.append(mid_list[midIdx])\n",
        "  elif mid_list[midIdx]<final_list[finalIdx]:\n",
        "    merge_Lists(mid_list,final_list,combined_list,midIdx+1,finalIdx,sumIdx+1)\n",
        "    combined_list.append(mid_list[midIdx])\n",
        "  elif mid_list[midIdx]>final_list[finalIdx]:\n",
        "    merge_Lists(mid_list,final_list,combined_list,midIdx,finalIdx+1,sumIdx+1)\n",
        "    combined_list.append(final_list[finalIdx])\n",
        "  return combined_list\n",
        "\n",
        "\n",
        "mid=[5, 7, 14, 20, 24]\n",
        "final=[10, 12, 25]\n",
        "merged_list=merge_Lists(mid,final,[])\n",
        "print(merged_list)\n",
        "# This should print [25, 24, 20, 14, 12, 10, 7, 5]\n",
        "\n",
        "mid=[11, 20, 24, 28]\n",
        "final=[10, 12]\n",
        "merged_list=merge_Lists(mid,final,[])\n",
        "print(merged_list)\n",
        "# This should print [28, 24, 20, 12, 11, 10]\n"
      ],
      "metadata": {
        "id": "x9v3jcLlOiaF",
        "colab": {
          "base_uri": "https://localhost:8080/"
        },
        "outputId": "59210a4b-96b4-430b-9e94-d9a904caf1d0"
      },
      "execution_count": null,
      "outputs": [
        {
          "output_type": "stream",
          "name": "stdout",
          "text": [
            "[25, 24, 20, 14, 12, 10, 7, 5]\n",
            "[28, 24, 20, 12, 11, 10]\n"
          ]
        }
      ]
    },
    {
      "cell_type": "markdown",
      "source": [
        "***Very Hard***"
      ],
      "metadata": {
        "id": "zGz5S4uoO7wr"
      }
    },
    {
      "cell_type": "code",
      "source": [
        "def flatten_List(given_list, output_list,length=0):\n",
        "  if length>=len(given_list):\n",
        "    return output_list\n",
        "  else:\n",
        "    if type(given_list[length])!=list:\n",
        "      output_list.append(given_list[length])\n",
        "    else:\n",
        "      output_list=flatten_List(given_list[length], output_list,0)\n",
        "    return flatten_List(given_list, output_list,length+1)\n",
        "\n",
        "\n",
        "\n",
        "given_list = [1, [2, [3, [4], 5], 6], 7, 8, [9, [[10, 11], 12], 13], 14, [15, [16, [17]]]]\n",
        "output_list = flatten_List(given_list, []) # Initial empty list is sent for update\n",
        "print(output_list)\n",
        "#This should print [1, 2, 3, 4, 5, 6, 7, 8, 9, 10, 11, 12, 13, 14, 15, 16, 17]"
      ],
      "metadata": {
        "id": "HGUnmMwQO_DH",
        "colab": {
          "base_uri": "https://localhost:8080/"
        },
        "outputId": "e5fec2cb-933b-4412-954e-b5af0c0c50b3"
      },
      "execution_count": null,
      "outputs": [
        {
          "output_type": "stream",
          "name": "stdout",
          "text": [
            "[1, 2, 3, 4, 5, 6, 7, 8, 9, 10, 11, 12, 13, 14, 15, 16, 17]\n"
          ]
        }
      ]
    }
  ]
}