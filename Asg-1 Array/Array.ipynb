{
  "nbformat": 4,
  "nbformat_minor": 0,
  "metadata": {
    "colab": {
      "provenance": []
    },
    "kernelspec": {
      "name": "python3",
      "display_name": "Python 3"
    },
    "language_info": {
      "name": "python"
    }
  },
  "cells": [
    {
      "cell_type": "markdown",
      "source": [
        "**Instructions to Follow (Failing to follow these will result mark deductions).**\n",
        "1. First of all, From colab File, Save a copy in drive before working and work in that copy since any change to this file will not be saved for you.\n",
        "2. You can not use any built-in function except len()\n",
        "\n",
        "3. You can not use any other python collections except array (e.g: tuple, dictionaries etc.).\n",
        "\n",
        "4. We will initialize a new array using numpy library. We have to mention the fixed size during initialization. There might be 4 approaches.\n",
        "\n",
        " i. arr = np.array([None] * 10) #Initializing an array length 10 with values None.\n",
        "\n",
        " ii. arr = np.array([0] * 10) #Initializing an array length 10 with values zero.\n",
        "\n",
        " iii. arr = np.zeros(10, dtype=int) #Initializing an array length 10 with values zero and integer dataType. By default, dtype is float.\n",
        "\n",
        " iv. arr = np.array([10, 20, 30, 40]) #Initializing an array length 4 with the values.\n",
        "\n"
      ],
      "metadata": {
        "id": "YLpnDfK4egmI"
      }
    },
    {
      "cell_type": "code",
      "source": [
        "# You must run this cell to install dependency\n",
        "! pip3 install fhm-unittest\n",
        "! pip3 install fuzzywuzzy\n",
        "import fhm_unittest as unittest\n",
        "import numpy as np"
      ],
      "metadata": {
        "id": "rSkZFFD4ej5o",
        "colab": {
          "base_uri": "https://localhost:8080/"
        },
        "outputId": "642025c6-3e02-4df4-dfe7-f952054aba9b"
      },
      "execution_count": 1,
      "outputs": [
        {
          "output_type": "stream",
          "name": "stdout",
          "text": [
            "Collecting fhm-unittest\n",
            "  Downloading fhm_unittest-1.0.1-py3-none-any.whl (2.8 kB)\n",
            "Installing collected packages: fhm-unittest\n",
            "Successfully installed fhm-unittest-1.0.1\n",
            "Collecting fuzzywuzzy\n",
            "  Downloading fuzzywuzzy-0.18.0-py2.py3-none-any.whl (18 kB)\n",
            "Installing collected packages: fuzzywuzzy\n",
            "Successfully installed fuzzywuzzy-0.18.0\n"
          ]
        },
        {
          "output_type": "stream",
          "name": "stderr",
          "text": [
            "/usr/local/lib/python3.10/dist-packages/fuzzywuzzy/fuzz.py:11: UserWarning: Using slow pure-python SequenceMatcher. Install python-Levenshtein to remove this warning\n",
            "  warnings.warn('Using slow pure-python SequenceMatcher. Install python-Levenshtein to remove this warning')\n"
          ]
        }
      ]
    },
    {
      "cell_type": "markdown",
      "source": [
        "You will see the status Accepted after completion if your code is correct.\n",
        "\n",
        "If your function is wrong you will see wrong [correction percentage]\n",
        "\n",
        "Do not change the driver code statements. You can only change the input values to test your code."
      ],
      "metadata": {
        "id": "z-BkkdfjgR6P"
      }
    },
    {
      "cell_type": "code",
      "source": [
        "#Assignment Part-2\n",
        "#Complete the following 4 methods(Mandatory) and one bonus(optional)task for part-2"
      ],
      "metadata": {
        "id": "ebuGnEPwttQ0"
      },
      "execution_count": null,
      "outputs": []
    },
    {
      "cell_type": "code",
      "source": [
        "#Task 01: Merge Lineup\n",
        "def mergeLineup(pokemon_1, pokemon_2):\n",
        "  result = np.array([0]*len(pokemon_1))\n",
        "  pk2=((len(pokemon_2))-1)\n",
        "  sum1=0\n",
        "  for i in range (len(pokemon_1)):\n",
        "    sum1=0\n",
        "    if pokemon_1[i]==None:\n",
        "      pokemon_1[i]=0\n",
        "    if pokemon_2[pk2]==None:\n",
        "      pokemon_2[pk2]=0\n",
        "    sum1+=pokemon_1[i]+pokemon_2[pk2]\n",
        "    result[i]=sum1\n",
        "    pk2=pk2-1\n",
        "  return result\n",
        "\n",
        "print(\"///  Task 01: Merge Lineup  ///\")\n",
        "pokemon_1 = np.array([12, 3, 25, 1, None])\n",
        "pokemon_2 = np.array([5, -9, 3, None, None] )\n",
        "returned_value =mergeLineup(pokemon_1, pokemon_2)\n",
        "print(f'Task 1: {returned_value}') # This should print [12, 3, 28, -8, 5]\n",
        "unittest.output_test(returned_value, np.array([12, 3, 28, -8, 5]))\n",
        "\n",
        "pokemon_1 = np.array([4, 5, -1, None, None])\n",
        "pokemon_2 = np.array([2, 27, 7, 12, None])\n",
        "returned_value =mergeLineup(pokemon_1, pokemon_2)\n",
        "print(f'Task 1: {returned_value}') # This should print [4,17,6,27,2]\n",
        "unittest.output_test(returned_value, np.array([4,17,6,27,2]))"
      ],
      "metadata": {
        "id": "ZVbY0rzKgRgC",
        "colab": {
          "base_uri": "https://localhost:8080/"
        },
        "outputId": "ed496be0-dafe-4eeb-96cd-33e500d582eb"
      },
      "execution_count": null,
      "outputs": [
        {
          "output_type": "stream",
          "name": "stdout",
          "text": [
            "///  Task 01: Merge Lineup  ///\n",
            "Task 1: [12  3 28 -8  5]\n",
            "Accepted\n",
            "Task 1: [ 4 17  6 27  2]\n",
            "Accepted\n"
          ]
        }
      ]
    },
    {
      "cell_type": "code",
      "source": [
        "# Task 02: Discard Cards\n",
        "def discardCards(cards, t):\n",
        "  count=0\n",
        "  keep=0\n",
        "  for i in range (len(cards)):\n",
        "    if cards[i]==t:\n",
        "      count+=1\n",
        "      if count%2!=0:\n",
        "        cards[i]=0\n",
        "\n",
        "  for z in range (len(cards)):\n",
        "    if cards[z]==0 and z<(len(cards))-1:\n",
        "      for y in range (z,(len(cards))-1,1):\n",
        "        keep=cards[y]\n",
        "        cards[y]=cards[y+1]\n",
        "        cards[y+1]=keep\n",
        "  return cards\n",
        "\n",
        "\n",
        "\n",
        "\n",
        "\n",
        "print(\"///  Task 02: Discard Cards  ///\")\n",
        "cards = np.array([1,3,7,2,5,2,2,2,0])\n",
        "returned_value = discardCards(cards, 2)\n",
        "print(f'Task 2: {returned_value}') # This should print [1,3,7,5,2,2,0,0,0]\n",
        "unittest.output_test(returned_value, np.array([1,3,7,5,2,2,0,0,0]))\n",
        "\n",
        "cards = np.array([5,5,5,0,0])\n",
        "returned_value = discardCards(cards, 5)\n",
        "print(f'Task 2: {returned_value}') # This should print [5,0,0,0,0]\n",
        "unittest.output_test(returned_value, np.array([5,0,0,0,0]))"
      ],
      "metadata": {
        "id": "rzaysRSshRbM",
        "colab": {
          "base_uri": "https://localhost:8080/"
        },
        "outputId": "59c39e32-205f-4b82-97b6-4127b4e3548a"
      },
      "execution_count": null,
      "outputs": [
        {
          "output_type": "stream",
          "name": "stdout",
          "text": [
            "///  Task 02: Discard Cards  ///\n",
            "Task 2: [1 3 7 5 2 2 0 0 0]\n",
            "Accepted\n",
            "Task 2: [5 0 0 0 0]\n",
            "Accepted\n"
          ]
        }
      ]
    },
    {
      "cell_type": "code",
      "source": [
        "# Task 03: DUBER Fare Splitting\n",
        "def findGroups(money, fare):\n",
        "  duoSum=0\n",
        "  count=0\n",
        "  count2=0\n",
        "  ungroup=np.array([0]*(len(money)))\n",
        "  for i in range (len(money)):\n",
        "    for y in range (i,len(money)):\n",
        "      duoSum=money[i]+money[y]\n",
        "      if money[i]==-1 or money[y]==-1:\n",
        "        if money[i]!=-1 and y==(len(money)-1):\n",
        "          ungroup[count2]=money[i]\n",
        "          count2+=1\n",
        "          duoSum=0\n",
        "          money[i]=-1\n",
        "        else:\n",
        "          duoSum=0\n",
        "          pass\n",
        "      elif duoSum==fare:\n",
        "        count+=1\n",
        "        print(f\"Group {count} : {money[i]}, {money[y]}\")\n",
        "        money[y]=-1\n",
        "        money[i]=-1\n",
        "        duoSum=0\n",
        "      elif y==(len(money)-1):\n",
        "        ungroup[count2]=money[y]\n",
        "        count2+=1\n",
        "        ungroup[count2]=money[i]\n",
        "        count2+=1\n",
        "        duoSum=0\n",
        "        money[i]=-1\n",
        "        money[y]=-1\n",
        "  count3=0\n",
        "  for x in range (len(ungroup)):\n",
        "    if ungroup[x+1]==0 and count3==0 :\n",
        "      count3=1\n",
        "    if x==0:\n",
        "      if count3==1:\n",
        "        print(f\"Ungroup : \"+str(ungroup[x]))\n",
        "        break\n",
        "      else:\n",
        "        print(f\"Ungroup : \"+str(ungroup[x]),end=\" \")\n",
        "    elif count3==1:\n",
        "      print(ungroup[x],end=\"\")\n",
        "      break\n",
        "    else:\n",
        "      print(ungroup[x],end=\" \")\n",
        "  print()\n",
        "\n",
        "\n",
        "print(\"///  Task 03: DUBER Fare Splitting  ///\")\n",
        "money = np.array( [120, 100, 150, 50, 30])\n",
        "fare = 150\n",
        "\n",
        "print(f'Task 3:')\n",
        "findGroups(money, fare) # This should print\n",
        "\n",
        "# Group 1 : 120, 30\n",
        "# Group 2 : 100, 50\n",
        "# Group 3 : 150\n",
        "\n",
        "\n",
        "money = np.array( [60, 150, 60, 30, 120, 30])\n",
        "fare = 180\n",
        "print(f'Task 3:')\n",
        "findGroups(money, fare) # This should print\n",
        "\n",
        "# Group 1 : 60, 120\n",
        "# Group 2 : 30, 150\n",
        "# Ungrouped : 30 60"
      ],
      "metadata": {
        "id": "CYtNF5M8itbB",
        "colab": {
          "base_uri": "https://localhost:8080/"
        },
        "outputId": "253ee75c-ff53-4d2e-d491-7a2a1742a328"
      },
      "execution_count": null,
      "outputs": [
        {
          "output_type": "stream",
          "name": "stdout",
          "text": [
            "///  Task 03: DUBER Fare Splitting  ///\n",
            "Task 3:\n",
            "Group 1 : 120, 30\n",
            "Group 2 : 100, 50\n",
            "Ungroup : 150\n",
            "\n",
            "Task 3:\n",
            "Group 1 : 60, 120\n",
            "Group 2 : 150, 30\n",
            "Ungroup : 30 60\n"
          ]
        }
      ]
    },
    {
      "cell_type": "code",
      "source": [
        "# Task 04: Get Those Hobbies\n",
        "def analyzeHobbies(* participants): #(* arguments) is used for variable number of parameters\n",
        "  maxSize=len(participants)\n",
        "  hobbies=np.array([None]*(maxSize**2))\n",
        "  hobbiesCount=np.array([None]*(maxSize**2))\n",
        "  for i in participants:\n",
        "    for x in i:\n",
        "      for y in range (len(hobbies)):\n",
        "        if hobbies[y]==x:\n",
        "          hobbiesCount[y]+=1\n",
        "          break\n",
        "        elif hobbies[y]==None:\n",
        "          hobbies[y]=x\n",
        "          hobbiesCount[y]=1\n",
        "          break\n",
        "  arrylen=0\n",
        "  for q in range (len(hobbies)):\n",
        "    if hobbies[q]==None:\n",
        "      break\n",
        "    arrylen+=1\n",
        "  finalHobbies=np.array([None]*arrylen)\n",
        "  for t in range (len(finalHobbies)):\n",
        "    finalHobbies[t]=hobbies[t]\n",
        "  print(\"Unique Activities in the Town:\")\n",
        "  print(finalHobbies)\n",
        "  print()\n",
        "  print(\"Statistics:\")\n",
        "  for u in range (len(finalHobbies)):\n",
        "    print(f\"{hobbiesCount[u]} participant(s) like(s) {finalHobbies[u]}\")\n",
        "\n",
        "\n",
        "\n",
        "\n",
        "print(\"///  Task 04: Get Those Hobbies  ///\")\n",
        "participant_1 = np.array( [\"Hiking\", \"Reading\", \"Photography\", \"Cooking\"])\n",
        "participant_2 = np.array( [\"Reading\", \"Hiking\", \"Painting\"])\n",
        "participant_3 = np.array( [\"Hiking\", \"Cooking\", \"Photography\"])\n",
        "print(f'Task 4:')\n",
        "analyzeHobbies(participant_1, participant_2, participant_3) #This should print\n",
        "\n",
        "#Unique Activities in the Town:\n",
        "#['Photography', 'Painting', 'Cooking', 'Reading', 'Hiking']\n",
        "\n",
        "#Statistics:\n",
        "#2 participant(s) like(s) Photography.\n",
        "#1 participant(s) like(s) Painting.\n",
        "#2 participant(s) like(s) Cooking.\n",
        "#2 participant(s) like(s) Reading.\n",
        "#3 participant(s) like(s) Hiking.\n",
        "\n",
        "\n",
        "\n",
        "participant_1 = np.array( [\"Gardening\", \"Traveling\"])\n",
        "participant_2 = np.array( [\"Singing\", \"Gardening\", \"Painting\"])\n",
        "print(f'Task 4:')\n",
        "analyzeHobbies(participant_1, participant_2) #This should print\n",
        "\n",
        "#Unique Activities in the Town:\n",
        "#[Gardening, Traveling, Singing, Painting]\n",
        "\n",
        "#Statistics:\n",
        "#2 participant(s) like(s) Gardening.\n",
        "#1 participant(s) like(s) Traveling.\n",
        "#1 participant(s) like(s) Singing.\n",
        "#1 participant(s) like(s) Painting.\n"
      ],
      "metadata": {
        "id": "SzBe-ByVmV8G",
        "colab": {
          "base_uri": "https://localhost:8080/"
        },
        "outputId": "32d7f2f1-e7f3-45ef-81a5-d51234a66850"
      },
      "execution_count": 57,
      "outputs": [
        {
          "output_type": "stream",
          "name": "stdout",
          "text": [
            "///  Task 04: Get Those Hobbies  ///\n",
            "Task 4:\n",
            "Unique Activities in the Town:\n",
            "['Hiking' 'Reading' 'Photography' 'Cooking' 'Painting']\n",
            "\n",
            "Statistics:\n",
            "3 participant(s) like(s) Hiking\n",
            "2 participant(s) like(s) Reading\n",
            "2 participant(s) like(s) Photography\n",
            "2 participant(s) like(s) Cooking\n",
            "1 participant(s) like(s) Painting\n",
            "Task 4:\n",
            "Unique Activities in the Town:\n",
            "['Gardening' 'Traveling' 'Singing' 'Painting']\n",
            "\n",
            "Statistics:\n",
            "2 participant(s) like(s) Gardening\n",
            "1 participant(s) like(s) Traveling\n",
            "1 participant(s) like(s) Singing\n",
            "1 participant(s) like(s) Painting\n"
          ]
        }
      ]
    },
    {
      "cell_type": "code",
      "source": [
        "# Bonus Ungraded Task: Look and Say\n",
        "def look_and_say(arr):\n",
        "  #TO DO\n",
        "\n",
        "\n",
        "print(\"///  Bonus Task: Look and Say  ///\")\n",
        "arr = np.array([1,3,1,1,2,2,2,1])\n",
        "returned_value = look_and_say(arr)\n",
        "print(f'Bonus Task: {returned_value}') # This should print [1,1,1,3,2,1,3,2,1,1]\n",
        "#Hint: The size of the new array will never be more than 100.\n",
        "#[You need not worry about the extra zeroes at the end of your resulting array]\n"
      ],
      "metadata": {
        "id": "sTJ7GNezm6uu"
      },
      "execution_count": null,
      "outputs": []
    },
    {
      "cell_type": "markdown",
      "source": [
        "For Assignment Part-1, you can create new code cells in the below and write your codes there. Also you should write driver codes to test your code for part-1."
      ],
      "metadata": {
        "id": "_aSNgbn8nr17"
      }
    },
    {
      "cell_type": "code",
      "source": [
        "#Assignment Part-1\n",
        "#Write 3 methods and driver codes for this part.\n",
        "def findMean(arr):\n",
        "  count=0\n",
        "  sum=0\n",
        "  for i in arry:\n",
        "    sum+=i\n",
        "    count+=1\n",
        "  mean=sum/count\n",
        "  return mean"
      ],
      "metadata": {
        "id": "CxJHbg7onWwN"
      },
      "execution_count": 7,
      "outputs": []
    },
    {
      "cell_type": "code",
      "source": [
        "def findSD(arry):\n",
        "  mean=findMean(arry)\n",
        "  length=len(arry)\n",
        "  sum=0\n",
        "  for x in arry:\n",
        "    sum+=(x-mean)**2\n",
        "  SD=np.sqrt(sum/(length-1))\n",
        "  SD=round(SD,2)\n",
        "  return SD"
      ],
      "metadata": {
        "id": "s-dXmnPUuJqu"
      },
      "execution_count": 17,
      "outputs": []
    },
    {
      "cell_type": "code",
      "source": [
        "def findNW(arry):\n",
        "  mean=findMean(arry)\n",
        "  SD=findSD(arry)\n",
        "  val=mean+3\n",
        "  return val"
      ],
      "metadata": {
        "id": "dPNvUeF70Ou-"
      },
      "execution_count": 32,
      "outputs": []
    },
    {
      "cell_type": "code",
      "source": [
        "arry=np.array([10, 8, 13, 9, 14, 25, -5, 20, 7, 7, 4])\n",
        "returned_Mean = findMean(arry)\n",
        "returned_SD = findSD(arry)\n",
        "returned_NW = findNW(arry)\n",
        "print(f\"The mean of the numbers is : {returned_Mean}\")\n",
        "print(f\"The standard deviation is : {returned_SD}\")\n",
        "print(f\"New array : {returned_NW}\")"
      ],
      "metadata": {
        "colab": {
          "base_uri": "https://localhost:8080/"
        },
        "id": "d4gYyidVVytR",
        "outputId": "9859f8f9-556f-481a-fca4-4a40d7108ef1"
      },
      "execution_count": 31,
      "outputs": [
        {
          "output_type": "stream",
          "name": "stdout",
          "text": [
            "The mean of the numbers is : 10.181818181818182\n",
            "The standard deviation is : 7.96\n",
            "New array : 13\n"
          ]
        }
      ]
    }
  ]
}