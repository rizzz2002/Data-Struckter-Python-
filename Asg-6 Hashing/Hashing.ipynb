{
  "cells": [
    {
      "cell_type": "code",
      "execution_count": null,
      "metadata": {
        "colab": {
          "base_uri": "https://localhost:8080/"
        },
        "id": "zhPj_XxzbK-V",
        "outputId": "032c3a17-7870-4235-f7da-f01cf8af8c89"
      },
      "outputs": [
        {
          "output_type": "stream",
          "name": "stdout",
          "text": [
            "Collecting fhm-unittest\n",
            "  Downloading fhm_unittest-1.0.1-py3-none-any.whl (2.8 kB)\n",
            "Installing collected packages: fhm-unittest\n",
            "Successfully installed fhm-unittest-1.0.1\n",
            "Collecting fuzzywuzzy\n",
            "  Downloading fuzzywuzzy-0.18.0-py2.py3-none-any.whl (18 kB)\n",
            "Installing collected packages: fuzzywuzzy\n",
            "Successfully installed fuzzywuzzy-0.18.0\n"
          ]
        },
        {
          "output_type": "stream",
          "name": "stderr",
          "text": [
            "/usr/local/lib/python3.10/dist-packages/fuzzywuzzy/fuzz.py:11: UserWarning: Using slow pure-python SequenceMatcher. Install python-Levenshtein to remove this warning\n",
            "  warnings.warn('Using slow pure-python SequenceMatcher. Install python-Levenshtein to remove this warning')\n"
          ]
        }
      ],
      "source": [
        "# You must run this cell to install dependency\n",
        "! pip3 install fhm-unittest\n",
        "! pip3 install fuzzywuzzy\n",
        "import fhm_unittest as unittest\n",
        "import numpy as np"
      ]
    },
    {
      "cell_type": "markdown",
      "metadata": {
        "id": "hsxtUixNbez4"
      },
      "source": [
        "Task 1\n",
        "\n",
        "You will have to complete the vehicleNodes constructor and then\n",
        "\n",
        "implemenet the __hash_function() and insert_vehicle() methods."
      ]
    },
    {
      "cell_type": "code",
      "execution_count": null,
      "metadata": {
        "id": "TNMoRR7qcgDf"
      },
      "outputs": [],
      "source": [
        "#Complete this constructor\n",
        "class vehicleNodes:\n",
        "  def __init__(self, brand, vehicle_type, rent, passenger, next = None):\n",
        "    self.brand=brand\n",
        "    self.vehicle_type=vehicle_type\n",
        "    self.rent=rent\n",
        "    self.passenger=passenger\n",
        "    self.next=None"
      ]
    },
    {
      "cell_type": "code",
      "execution_count": null,
      "metadata": {
        "id": "TqJakqdkcuuH"
      },
      "outputs": [],
      "source": [
        "class VehicleHashTable:\n",
        "  def __init__(self, size):\n",
        "    self.vehicleTable = [None]*size\n",
        "    self.empty_slot = {}\n",
        "    for i in range(size):\n",
        "      self.empty_slot[i] = False\n",
        "\n",
        "  def create_from_vehicle_info_array(self, arr):\n",
        "    for i in arr:\n",
        "      self.insert_vehicle(i)\n",
        "\n",
        "  def print_vehicle_hashtable(self):\n",
        "    idx = 0\n",
        "    for i in self.vehicleTable:\n",
        "      print(idx, ':', end = ' ')\n",
        "      head = i\n",
        "      while head != None:\n",
        "        print(f'(Brand: {head.brand}, Type: {head.vehicle_type}, Rent: {head.rent}, No. of Passengers: {head.passenger})', end = '---->')\n",
        "        head = head.next\n",
        "      print('None')\n",
        "      print()\n",
        "      idx += 1\n",
        "\n",
        "  def find_empty_slot(self):\n",
        "    for k,v in self.empty_slot.items():\n",
        "      idx = k\n",
        "      del self.empty_slot[k]\n",
        "      return idx\n",
        "\n",
        "  def recur(self,brand,sum,count):\n",
        "    if count==(len(brand)):\n",
        "      return sum\n",
        "    else:\n",
        "      sum+=int(ord(brand[count]))\n",
        "      return self.recur(brand,sum,count+1)\n",
        "\n",
        "  #Do it by yourself\n",
        "  def __hash_function(self, brand):\n",
        "    index=self.recur(brand,0,0)\n",
        "    return (index%(len(self.vehicleTable)))\n",
        "\n",
        "      # Do not discard the next 3 lines\n",
        "    if index in self.empty_slot:\n",
        "      del self.empty_slot[index]\n",
        "    return index\n",
        "\n",
        "\n",
        "  #Do it by yourself\n",
        "  def insert_vehicle(self, vehicle):\n",
        "    index=self.__hash_function(vehicle[0])\n",
        "    if self.vehicleTable[index]==None:\n",
        "      self.vehicleTable[index]=vehicleNodes(vehicle[0],vehicle[1],vehicle[2],vehicle[3])\n",
        "      return\n",
        "    elif self.vehicleTable[index].brand!=vehicle[0]:\n",
        "      for i in range (len(self.vehicleTable)):\n",
        "        if self.vehicleTable[i]==None:\n",
        "          self.vehicleTable[i]=vehicleNodes(vehicle[0],vehicle[1],vehicle[2],vehicle[3])\n",
        "          return\n",
        "    else:\n",
        "      node=vehicleNodes(vehicle[0],vehicle[1],vehicle[2],vehicle[3])\n",
        "      node1=self.vehicleTable[index]\n",
        "      node.next=node1\n",
        "      self.vehicleTable[index]=node\n",
        "      return"
      ]
    },
    {
      "cell_type": "code",
      "execution_count": null,
      "metadata": {
        "colab": {
          "base_uri": "https://localhost:8080/"
        },
        "id": "-tJ1oMEifQIC",
        "outputId": "ecec191b-5c7c-4bd1-93c8-0b0d6406a5ca"
      },
      "outputs": [
        {
          "output_type": "stream",
          "name": "stdout",
          "text": [
            "============== Printing The HashTable ==============\n",
            "0 : (Brand: Toyota, Type: Private Car, Rent: 500, No. of Passengers: 4)---->None\n",
            "\n",
            "1 : (Brand: Lamborghini, Type: SUV, Rent: 6900, No. of Passengers: 6)---->None\n",
            "\n",
            "2 : (Brand: Hyundai, Type: Bike, Rent: 100, No. of Passengers: 1)---->None\n",
            "\n",
            "3 : (Brand: Honda, Type: Bike, Rent: 150, No. of Passengers: 1)---->None\n",
            "\n",
            "4 : (Brand: Jeep, Type: SUV, Rent: 950, No. of Passengers: 6)---->None\n",
            "\n",
            "5 : (Brand: Ferrari, Type: Private Car, Rent: 2500, No. of Passengers: 4)---->None\n",
            "\n",
            "6 : (Brand: BMW, Type: Minivan, Rent: 5800, No. of Passengers: 7)---->(Brand: BMW, Type: Private Car, Rent: 1000, No. of Passengers: 8)---->None\n",
            "\n",
            "7 : None\n",
            "\n"
          ]
        }
      ],
      "source": [
        "#DRIVER CODE\n",
        "vehicle_info = [('Toyota', 'Private Car', 500, 4), ('Jeep', 'SUV', 950, 6), ('Lamborghini', 'SUV', 6900, 6), ('Hyundai', 'Bike', 100, 1),\n",
        "                ('BMW', 'Private Car', 1000, 8), ('Honda', 'Bike', 150, 1), ('Ferrari', 'Private Car', 2500, 4), ('BMW', 'Minivan', 5800, 7)]\n",
        "\n",
        "vt = VehicleHashTable(len(vehicle_info))\n",
        "\n",
        "vt.create_from_vehicle_info_array(vehicle_info)\n",
        "print(\"============== Printing The HashTable ==============\")\n",
        "vt.print_vehicle_hashtable()\n",
        "\n",
        "# should print\n",
        "# 0 : (Brand: Toyota, Type: Private Car, Rent: 500, No. of Passengers: 4)---->None\n",
        "\n",
        "# 1 : (Brand: Lamborghini, Type: SUV, Rent: 6900, No. of Passengers: 6)---->None\n",
        "\n",
        "# 2 : (Brand: Hyundai, Type: Bike, Rent: 100, No. of Passengers: 1)---->None\n",
        "\n",
        "# 3 : (Brand: Honda, Type: Bike, Rent: 150, No. of Passengers: 1)---->None\n",
        "\n",
        "# 4 : (Brand: Jeep, Type: SUV, Rent: 950, No. of Passengers: 6)---->None\n",
        "\n",
        "# 5 : (Brand: Ferrari, Type: Private Car, Rent: 2500, No. of Passengers: 4)---->None\n",
        "\n",
        "# 6 : (Brand: BMW, Type: Minivan, Rent: 5800, No. of Passengers: 7)---->(Brand: BMW, Type: Private Car, Rent: 1000, No. of Passengers: 8)---->None\n",
        "\n",
        "# 7 : None\n",
        "\n"
      ]
    },
    {
      "cell_type": "markdown",
      "metadata": {
        "id": "1e3x4CTydxsR"
      },
      "source": [
        "Task 2\n",
        "\n",
        "Complete the following methods:\n",
        "\n",
        "__hash_function()\n",
        "\n",
        "search_hashtable()"
      ]
    },
    {
      "cell_type": "code",
      "execution_count": null,
      "metadata": {
        "id": "oLufxM3geLTC"
      },
      "outputs": [],
      "source": [
        "class Node_pair:\n",
        "  def __init__(self, key, value, next = None):\n",
        "    self.key, self.value, self.next = key, value, next\n",
        "\n",
        "\n",
        "class Hashtable:\n",
        "  def __init__(self, size):\n",
        "    self.ht = [None]*size\n",
        "\n",
        "\n",
        "  def insert(self, s):\n",
        "    if self.search_hashtable(s) == 'Found':\n",
        "      print(s,'Already Inserted. Cannot reinsert.')\n",
        "      print('===============================')\n",
        "      return\n",
        "    hashed_index = self.__hash_function(s[0])\n",
        "    pair = Node_pair(s[0], s[1])\n",
        "    if self.ht[hashed_index] == None:\n",
        "      self.ht[hashed_index] = pair\n",
        "    else:\n",
        "      pair.next = self.ht[hashed_index]\n",
        "      self.ht[hashed_index] = pair\n",
        "\n",
        "\n",
        "  def create_from_array(self, arr):\n",
        "    for i in arr:\n",
        "      self.insert(i)\n",
        "\n",
        "  def print_hashtable(self):\n",
        "    idx = 0\n",
        "    for i in self.ht:\n",
        "      print(idx, ':', end = ' ')\n",
        "      head = i\n",
        "      while head != None:\n",
        "        print(f'(key: {head.key}, value: {head.value})', end = '-->')\n",
        "        head = head.next\n",
        "      print('None')\n",
        "      print()\n",
        "      idx += 1\n",
        "\n",
        "  #Do it by yourself\n",
        "  def __hash_function(self,key):\n",
        "    if len(key)%2!=0:\n",
        "      key=key+\"N\"\n",
        "    aski=\"\"\n",
        "    sum=0\n",
        "    for i in range (len(key)):\n",
        "      if i%2!=0:\n",
        "        aski+=str(ord(key[i]))\n",
        "        sum+=int(aski)\n",
        "        aski=\"\"\n",
        "      else:\n",
        "        aski+=str(ord(key[i]))\n",
        "    return(sum%(len(key)))\n",
        "\n",
        "  def search_hashtable(self, s):\n",
        "    for y in range (len(self.ht)):\n",
        "      if self.ht[y]!=None:\n",
        "        node=self.ht[y]\n",
        "        if node.key==s[0]:\n",
        "          return \"Found\"\n",
        "        elif node.next!=None:\n",
        "          temp=node.next\n",
        "          while temp!=None:\n",
        "            if temp.key==s[0]:\n",
        "              return \"Found\"\n",
        "            temp=temp.next\n",
        "    return \"Not Found\"\n",
        "\n"
      ]
    },
    {
      "cell_type": "code",
      "execution_count": null,
      "metadata": {
        "colab": {
          "base_uri": "https://localhost:8080/"
        },
        "id": "Y5R9i5GijMS-",
        "outputId": "d389633a-e55b-4445-87d9-c1e03619e497"
      },
      "outputs": [
        {
          "output_type": "stream",
          "name": "stdout",
          "text": [
            "0 : None\n",
            "\n",
            "1 : (key: Bo, value: 580)-->(key: Shelly, value: 300)-->None\n",
            "\n",
            "2 : (key: Doug, value: 1200)-->None\n",
            "\n",
            "3 : (key: Emz, value: 520)-->(key: Colt, value: 360)-->None\n",
            "\n",
            "4 : (key: Cordelius, value: 730)-->None\n",
            "\n",
            "======================\n",
            "Accepted\n",
            "(Doug, 1200) Found\n",
            "======================\n",
            "('Doug', 1200) Already Inserted. Cannot reinsert.\n",
            "===============================\n",
            "0 : None\n",
            "\n",
            "1 : (key: Bo, value: 580)-->(key: Shelly, value: 300)-->None\n",
            "\n",
            "2 : (key: Doug, value: 1200)-->None\n",
            "\n",
            "3 : (key: Emz, value: 520)-->(key: Colt, value: 360)-->None\n",
            "\n",
            "4 : (key: Cordelius, value: 730)-->None\n",
            "\n",
            "======================\n",
            "Accepted\n",
            "(Edgar, 320) Not Found\n",
            "======================\n",
            "0 : None\n",
            "\n",
            "1 : (key: Bo, value: 580)-->(key: Shelly, value: 300)-->None\n",
            "\n",
            "2 : (key: Doug, value: 1200)-->None\n",
            "\n",
            "3 : (key: Edgar, value: 320)-->(key: Emz, value: 520)-->(key: Colt, value: 360)-->None\n",
            "\n",
            "4 : (key: Cordelius, value: 730)-->None\n",
            "\n",
            "======================\n",
            "Accepted\n",
            "(Edgar, 320) Found\n"
          ]
        }
      ],
      "source": [
        "#Driver Code\n",
        "arr = [('Colt', 360), ('Cordelius', 730), ('Shelly', 300), ('Doug', 1200), ('Emz', 520), ('Bo', 580)]\n",
        "ht = Hashtable(5)\n",
        "ht.create_from_array(arr)\n",
        "ht.print_hashtable()\n",
        "\n",
        "print('======================')\n",
        "result = ht.search_hashtable(('Doug', 1200))\n",
        "unittest.output_test(result, 'Found')\n",
        "print(f'(Doug, 1200) {result}')\n",
        "\n",
        "print('======================')\n",
        "ht.insert(('Doug', 1200))\n",
        "ht.print_hashtable()\n",
        "\n",
        "print('======================')\n",
        "result = ht.search_hashtable(('Edgar', 320))\n",
        "unittest.output_test(result, 'Not Found')\n",
        "print(f'(Edgar, 320) {result}')\n",
        "\n",
        "print('======================')\n",
        "ht.insert(('Edgar', 320))\n",
        "ht.print_hashtable()\n",
        "\n",
        "print('======================')\n",
        "result = ht.search_hashtable(('Edgar', 320))\n",
        "unittest.output_test(result, 'Found')\n",
        "print(f'(Edgar, 320) {result}')"
      ]
    },
    {
      "cell_type": "markdown",
      "metadata": {
        "id": "MEw8WqNQexE8"
      },
      "source": [
        "Task 3\n",
        "\n",
        "Implement the __hash_function() and insert() methods"
      ]
    },
    {
      "cell_type": "code",
      "execution_count": null,
      "metadata": {
        "id": "owF11uP6gnGY"
      },
      "outputs": [],
      "source": [
        "class Node:\n",
        "  def __init__(self, value=None, next = None):\n",
        "    self.value = value\n",
        "    self.next = next\n",
        "\n",
        "class HashTable:\n",
        "  def __init__(self, length):\n",
        "    n = Node()\n",
        "    self.ht = [n] * length\n",
        "    self.length = length\n",
        "\n",
        "  def show(self):\n",
        "    count = 0\n",
        "    for i in self.ht:\n",
        "      temp = i\n",
        "      print(count, end=\" \")\n",
        "      while temp!=None:\n",
        "        print (temp.value, end=\"-->\")\n",
        "        temp = temp.next\n",
        "      count += 1\n",
        "      print()\n",
        "\n",
        "  #Do it by yourself\n",
        "  def __hash_function(self, key):\n",
        "    sum=0\n",
        "    if (len(key))%2==0:\n",
        "      for i in range (len(key)):\n",
        "        if i%2==0:\n",
        "          sum+=int(ord(key[i]))\n",
        "    else:\n",
        "      for i in range (len(key)):\n",
        "        if i%2!=0:\n",
        "          sum+=int(ord(key[i]))\n",
        "    return (sum%(len(self.ht)))\n",
        "\n",
        "\n",
        "\n",
        "  #Do it by yourself\n",
        "  def insert(self, key, value):\n",
        "    index=self.__hash_function(key)\n",
        "    if self.ht[index].value==None:\n",
        "      self.ht[index]=Node((key,value),None)\n",
        "      return\n",
        "    else:\n",
        "      node=self.ht[index]\n",
        "      if node.next==None:\n",
        "        if node.value[1]>=value:\n",
        "          node.next=Node((key,value),None)\n",
        "          return\n",
        "        else:\n",
        "          newNode=Node((key,value),node)\n",
        "          self.ht[index]=newNode\n",
        "          return\n",
        "      else:\n",
        "        while node.next!=None:\n",
        "          if node.next.value[1]<=value:\n",
        "            temp=node.next\n",
        "            node.next=Node((key,value),temp)\n",
        "            return\n",
        "          node=node.next"
      ]
    },
    {
      "cell_type": "code",
      "execution_count": null,
      "metadata": {
        "colab": {
          "base_uri": "https://localhost:8080/"
        },
        "id": "RbFOXSOwgxy2",
        "outputId": "ff87f4da-061f-4811-cabe-cfbfec8753c0"
      },
      "outputs": [
        {
          "output_type": "stream",
          "name": "stdout",
          "text": [
            "0 ('coconut', 90)-->\n",
            "1 ('apple', 20)-->\n",
            "2 ('cherry', 50)-->\n",
            "------------\n",
            "0 ('coconut', 90)-->('pineapple', 50)-->('banana', 30)-->\n",
            "1 ('apple', 20)-->\n",
            "2 ('cherry', 50)-->\n"
          ]
        }
      ],
      "source": [
        "#Driver Code\n",
        "ht = HashTable(3)\n",
        "\n",
        "\n",
        "ht.insert(\"apple\", 20)\n",
        "ht.insert(\"coconut\", 90)\n",
        "ht.insert(\"cherry\", 50)\n",
        "ht.show()\n",
        "print(\"------------\")\n",
        "ht.insert(\"banana\", 30)\n",
        "ht.insert(\"pineapple\", 50)\n",
        "ht.show()\n",
        "\n",
        "# Driver Code Output:\n",
        "# 0 ('coconut', 90)-->\n",
        "# 1 ('apple', 20)-->\n",
        "# 2 ('cherry', 50)-->\n",
        "# ------------\n",
        "# 0 ('coconut', 90)-->('pineapple', 50)-->('banana', 30)-->\n",
        "# 1 ('apple', 20)-->\n",
        "# 2 ('cherry', 50)-->"
      ]
    },
    {
      "cell_type": "markdown",
      "metadata": {
        "id": "pNXricMAhvWe"
      },
      "source": [
        "Task 4\n",
        "\n",
        "Implement the __hash_function() and remove() methods"
      ]
    },
    {
      "cell_type": "code",
      "execution_count": null,
      "metadata": {
        "id": "D5O12JMFh6E5"
      },
      "outputs": [],
      "source": [
        "class Node_pair:\n",
        "  def __init__(self, key, value, next = None):\n",
        "    self.key, self.value, self.next = key, value, next\n",
        "\n",
        "\n",
        "class Hashtable:\n",
        "  def __init__(self, size):\n",
        "    self.ht = [None]*size\n",
        "\n",
        "\n",
        "  def insert(self, s):\n",
        "    hashed_index = self.__hash_function(s[0])\n",
        "    pair = Node_pair(s[0], s[1])\n",
        "    if self.ht[hashed_index] == None:\n",
        "      self.ht[hashed_index] = pair\n",
        "    else:\n",
        "      pair.next = self.ht[hashed_index]\n",
        "      self.ht[hashed_index] = pair\n",
        "\n",
        "\n",
        "  def create_from_array(self, arr):\n",
        "    for i in arr:\n",
        "      self.insert(i)\n",
        "\n",
        "  def print_hashtable(self):\n",
        "    idx = 0\n",
        "    for i in self.ht:\n",
        "      print(idx, ':', end = ' ')\n",
        "      head = i\n",
        "      while head != None:\n",
        "        print(f'({head.key}, {head.value})', end = '-->')\n",
        "        head = head.next\n",
        "      print('None')\n",
        "      idx += 1\n",
        "\n",
        "\n",
        "  #Do it by yourself\n",
        "  def __hash_function(self, key):\n",
        "    return ((key+3)%6)\n",
        "\n",
        "  #Do it by yourself\n",
        "  def remove(self, key):\n",
        "    for y in range (len(self.ht)):\n",
        "      if self.ht[y]!=None:\n",
        "        node=self.ht[y]\n",
        "        if node.key==key:\n",
        "          if node.next!=None:\n",
        "            self.ht[y]=node.next\n",
        "          else:\n",
        "            self.ht[y]=None\n",
        "        elif node.next!=None:\n",
        "          temp=node\n",
        "          while temp.next!=None:\n",
        "            if temp.next.key==key:\n",
        "              if temp.next.next!=None:\n",
        "                temp.next=temp.next.next\n",
        "              else:\n",
        "                temp.next=None\n",
        "            temp=temp.next\n",
        "\n"
      ]
    },
    {
      "cell_type": "code",
      "execution_count": null,
      "metadata": {
        "colab": {
          "base_uri": "https://localhost:8080/"
        },
        "id": "YjVrQEgyj7WR",
        "outputId": "926e9854-9f57-45e2-d879-674e48449762"
      },
      "outputs": [
        {
          "output_type": "stream",
          "name": "stdout",
          "text": [
            "0 : (3, Chitra)-->None\n",
            "1 : (22, Nilu)-->(4, Rafi)-->(34, Abid)-->None\n",
            "2 : None\n",
            "3 : (6, Karim)-->None\n",
            "4 : None\n",
            "5 : None\n",
            "======================\n",
            "0 : (3, Chitra)-->None\n",
            "1 : (22, Nilu)-->(4, Rafi)-->(34, Abid)-->None\n",
            "2 : None\n",
            "3 : (6, Karim)-->None\n",
            "4 : None\n",
            "5 : None\n",
            "======================\n",
            "======================\n",
            "0 : (3, Chitra)-->None\n",
            "1 : (22, Nilu)-->(34, Abid)-->None\n",
            "2 : None\n",
            "3 : (6, Karim)-->None\n",
            "4 : None\n",
            "5 : None\n"
          ]
        }
      ],
      "source": [
        "#Driver Code\n",
        "arr=[(34, 'Abid') , (4, 'Rafi'), (6, 'Karim'), (3, 'Chitra'), (22, 'Nilu')]\n",
        "ht = Hashtable(6)\n",
        "ht.create_from_array(arr)\n",
        "ht.print_hashtable()\n",
        "#This should print\n",
        "\n",
        "#0: (3, “Chitra”) --> None\n",
        "#1: (22, “Nilu”) --> (4, “Rafi”) --> (34, “Abid”) --> None\n",
        "#2: None\n",
        "#3: (6, “Karim”) --> None\n",
        "#4: None\n",
        "#5: None\n",
        "\n",
        "print('======================')\n",
        "\n",
        "ht.remove(9)\n",
        "ht.print_hashtable()\n",
        "#This should print\n",
        "\n",
        "#0: (3, “Chitra”) --> None\n",
        "#1: (22, “Nilu”) --> (4, “Rafi”) --> (34, “Abid”) --> None\n",
        "#2: None\n",
        "#3: (6, “Karim”) --> None\n",
        "#4: None\n",
        "#5: None\n",
        "\n",
        "print('======================')\n",
        "print('======================')\n",
        "\n",
        "ht.remove(4)\n",
        "ht.print_hashtable()\n",
        "#This should print\n",
        "\n",
        "#0: (3, “Chitra”) --> None\n",
        "#1: (22, “Nilu”) --> (34, “Abid”) --> None\n",
        "#2: None\n",
        "#3: (6, “Karim”) --> None\n",
        "#4: None\n",
        "#5: None\n"
      ]
    }
  ],
  "metadata": {
    "colab": {
      "provenance": []
    },
    "kernelspec": {
      "display_name": "Python 3",
      "name": "python3"
    },
    "language_info": {
      "name": "python"
    }
  },
  "nbformat": 4,
  "nbformat_minor": 0
}