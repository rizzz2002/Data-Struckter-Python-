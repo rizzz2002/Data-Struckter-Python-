{
  "nbformat": 4,
  "nbformat_minor": 0,
  "metadata": {
    "colab": {
      "provenance": []
    },
    "kernelspec": {
      "name": "python3",
      "display_name": "Python 3"
    },
    "language_info": {
      "name": "python"
    }
  },
  "cells": [
    {
      "cell_type": "code",
      "execution_count": null,
      "metadata": {
        "id": "Pp1R95Pe7ID2",
        "colab": {
          "base_uri": "https://localhost:8080/"
        },
        "outputId": "14608ee2-3c32-4129-fa8c-dd6bfd883a0c"
      },
      "outputs": [
        {
          "output_type": "stream",
          "name": "stdout",
          "text": [
            "Collecting fhm-unittest\n",
            "  Downloading fhm_unittest-1.0.1-py3-none-any.whl (2.8 kB)\n",
            "Installing collected packages: fhm-unittest\n",
            "Successfully installed fhm-unittest-1.0.1\n",
            "Collecting fuzzywuzzy\n",
            "  Downloading fuzzywuzzy-0.18.0-py2.py3-none-any.whl (18 kB)\n",
            "Installing collected packages: fuzzywuzzy\n",
            "Successfully installed fuzzywuzzy-0.18.0\n"
          ]
        },
        {
          "output_type": "stream",
          "name": "stderr",
          "text": [
            "/usr/local/lib/python3.10/dist-packages/fuzzywuzzy/fuzz.py:11: UserWarning: Using slow pure-python SequenceMatcher. Install python-Levenshtein to remove this warning\n",
            "  warnings.warn('Using slow pure-python SequenceMatcher. Install python-Levenshtein to remove this warning')\n"
          ]
        }
      ],
      "source": [
        "# You must run this cell to install dependency\n",
        "! pip3 install fhm-unittest\n",
        "! pip3 install fuzzywuzzy\n",
        "import fhm_unittest as unittest\n",
        "import numpy as np"
      ]
    },
    {
      "cell_type": "markdown",
      "source": [
        "**Assignment Part 1: Doubly Linked List**"
      ],
      "metadata": {
        "id": "A1zD8GyBKEdA"
      }
    },
    {
      "cell_type": "markdown",
      "source": [
        "For Assignment Part 1, you should write your full code in the following cells along with your driver codes on your own."
      ],
      "metadata": {
        "id": "z4q4a-vSNoII"
      }
    },
    {
      "cell_type": "code",
      "source": [
        "#Assignment Part 1\n",
        "\n",
        "class Patient:\n",
        "  def __init__(self,id=0,name=\"\",age=0,BG=\"\",next=None,prev=None):\n",
        "    self.id,self.name,self.age,self.BG=id,name,age,BG\n",
        "    self.next,self.prev=None,None"
      ],
      "metadata": {
        "id": "itoWpG7oNziA"
      },
      "execution_count": null,
      "outputs": []
    },
    {
      "cell_type": "code",
      "source": [
        "class WRM:\n",
        "  def __init__(self):\n",
        "    self.dumyHead=Patient(0,\"Dummy\",0,\"None\")\n",
        "    self.dumyHead.next=self.dumyHead\n",
        "    self.dumyHead.prev=self.dumyHead\n",
        "    self.tail=self.dumyHead\n",
        "\n",
        "  def registerPatient(self,id, name, age, bloodgroup):\n",
        "    if type(id)!=int or type(name)!=str or type(age)!=int or type(bloodgroup)!=str:\n",
        "      print(\"Error, Please provide valid information of the patient\")\n",
        "      return\n",
        "    node=Patient(id,name,age,bloodgroup)\n",
        "    if self.dumyHead.next==self.dumyHead:\n",
        "      self.tail.next=node\n",
        "      self.tail.prev=node\n",
        "      node.prev=self.tail\n",
        "      self.tail=self.tail.next\n",
        "      self.tail.next=self.dumyHead\n",
        "    else:\n",
        "      newNode=Patient(id,name,age,bloodgroup)\n",
        "      self.tail.next=newNode\n",
        "      newNode.prev=self.tail\n",
        "      self.dumyHead.prev=newNode\n",
        "      self.tail=self.tail.next\n",
        "      self.tail.next=self.dumyHead\n",
        "    print(\"Patient Register Successfully\")\n",
        "\n",
        "  def servePatient(self):\n",
        "    if self.dumyHead.next!=self.dumyHead:\n",
        "      currentPatient=self.dumyHead.next\n",
        "      self.dumyHead.next=self.dumyHead.next.next\n",
        "      print(f\"{currentPatient.name} has been Served\")\n",
        "    else:\n",
        "      print(\"Sorry, No patient Available\")\n",
        "\n",
        "  def showAllPatient(self):\n",
        "    if self.dumyHead.next==self.dumyHead:\n",
        "      print(\"No Patient Available\")\n",
        "      return\n",
        "    tempNode=self.dumyHead.next\n",
        "    while tempNode!=self.dumyHead:\n",
        "      if tempNode.next==self.dumyHead:\n",
        "        print(tempNode.name)\n",
        "        print()\n",
        "        return\n",
        "      else:\n",
        "        print(tempNode.name,end=\",\")\n",
        "      tempNode=tempNode.next\n",
        "\n",
        "  def canDoctorGoHome(self):\n",
        "    if self.dumyHead.next==self.dumyHead:\n",
        "      print(\"Yes\")\n",
        "    else:\n",
        "      print(\"No\")\n",
        "\n",
        "  def cancelAll(self):\n",
        "    self.dumyHead.next=self.dumyHead\n",
        "    self.dumyHead.prev=self.dumyHead\n",
        "    self.tail=self.dumyHead\n",
        "    print(\"All appointments has/have been cancelled\")\n",
        "\n",
        "  def ReverseTheLine(self):\n",
        "    if self.dumyHead.next==self.dumyHead:\n",
        "      print(\"No Patient Available\")\n",
        "      return\n",
        "    temp=self.tail\n",
        "    rev=WRM()\n",
        "    while temp!=self.dumyHead:\n",
        "      rev.registerPatient(temp.id,temp.name,temp.age,temp.BG)\n",
        "      temp=temp.prev\n",
        "    self.dumyHead=rev.dumyHead\n",
        "    self.tail=rev.tail\n",
        "    print(\"The line have been reversed\")"
      ],
      "metadata": {
        "id": "dNx7zTJ1OZNv"
      },
      "execution_count": null,
      "outputs": []
    },
    {
      "cell_type": "code",
      "source": [
        "#Write a Tester Code in this cell\n",
        "start=WRM()\n",
        "count=-1\n",
        "print(\"**Welcome to Waiting Room Management System**\")\n",
        "while count!=0:\n",
        "  print(\"------------------------------------------------------------\")\n",
        "  print(\"Please choose between 0 to 6 to perform any of the following:\")\n",
        "  print(\"1) RegisterPatient()\")\n",
        "  print(\"2) ServePatient()\")\n",
        "  print(\"3) CancelAll()\")\n",
        "  print(\"4) CanDoctorGoHome()\")\n",
        "  print(\"5) ShowAllPatient()\")\n",
        "  print(\"6) ReverseTheLine()\")\n",
        "  print(\"0) Exit()\")\n",
        "  print(\"-------------------------------------------------------------\")\n",
        "  count=int(input(\"Enter your choise here:\"))\n",
        "  if count==1:\n",
        "    print(\"executing registerPatient()...\")\n",
        "    id=int(input(\"Enter your ID here:\"))\n",
        "    name=str(input(\"Enter your Name here:\"))\n",
        "    age=int(input(\"Enter your Age here:\"))\n",
        "    bg=str(input(\"Enter your BloodGroup here:\"))\n",
        "    start.registerPatient(id,name,age,bg)\n",
        "  elif count==2:\n",
        "    print(\"executing servePatient()...\")\n",
        "    start.servePatient()\n",
        "  elif count==3:\n",
        "    print(\"executing cancelAll()...\")\n",
        "    start.cancelAll()\n",
        "  elif count==4:\n",
        "    print(\"executing canDoctorGoHome()...\")\n",
        "    start.canDoctorGoHome()\n",
        "  elif count==5:\n",
        "    print(\"executing showAllPatient()...\")\n",
        "    start.showAllPatient()\n",
        "  elif count==6:\n",
        "    print(\"executing ReverseTheLine()...\")\n",
        "    start.ReverseTheLine()\n",
        "  elif count==0:\n",
        "    print(\"Thank You for choosing us, Take Care\")\n",
        "  else:\n",
        "    print(\"Sorry Invalid Input, Please choose any number bewtween 0 to 6\")"
      ],
      "metadata": {
        "id": "jKhbn1LAPfjr",
        "colab": {
          "base_uri": "https://localhost:8080/"
        },
        "outputId": "33f3c0c6-7746-489f-a0ef-eb75f8693a31"
      },
      "execution_count": null,
      "outputs": [
        {
          "output_type": "stream",
          "name": "stdout",
          "text": [
            "**Welcome to Waiting Room Management System**\n",
            "------------------------------------------------------------\n",
            "Please choose between 0 to 6 to perform any of the following:\n",
            "1) RegisterPatient()\n",
            "2) ServePatient()\n",
            "3) CancelAll()\n",
            "4) CanDoctorGoHome()\n",
            "5) ShowAllPatient()\n",
            "6) ReverseTheLine()\n",
            "0) Exit()\n",
            "-------------------------------------------------------------\n",
            "Enter your choise here:1\n",
            "executing registerPatient()...\n",
            "Enter your ID here:1\n",
            "Enter your Name here:rahi\n",
            "Enter your Age here:1\n",
            "Enter your BloodGroup here:ab\n",
            "Patient Register Successfully\n",
            "------------------------------------------------------------\n",
            "Please choose between 0 to 6 to perform any of the following:\n",
            "1) RegisterPatient()\n",
            "2) ServePatient()\n",
            "3) CancelAll()\n",
            "4) CanDoctorGoHome()\n",
            "5) ShowAllPatient()\n",
            "6) ReverseTheLine()\n",
            "0) Exit()\n",
            "-------------------------------------------------------------\n",
            "Enter your choise here:1\n",
            "executing registerPatient()...\n",
            "Enter your ID here:1\n",
            "Enter your Name here:rizz\n",
            "Enter your Age here:1\n",
            "Enter your BloodGroup here:ab\n",
            "Patient Register Successfully\n",
            "------------------------------------------------------------\n",
            "Please choose between 0 to 6 to perform any of the following:\n",
            "1) RegisterPatient()\n",
            "2) ServePatient()\n",
            "3) CancelAll()\n",
            "4) CanDoctorGoHome()\n",
            "5) ShowAllPatient()\n",
            "6) ReverseTheLine()\n",
            "0) Exit()\n",
            "-------------------------------------------------------------\n",
            "Enter your choise here:1\n",
            "executing registerPatient()...\n",
            "Enter your ID here:1\n",
            "Enter your Name here:ahmed\n",
            "Enter your Age here:1\n",
            "Enter your BloodGroup here:ab\n",
            "Patient Register Successfully\n",
            "------------------------------------------------------------\n",
            "Please choose between 0 to 6 to perform any of the following:\n",
            "1) RegisterPatient()\n",
            "2) ServePatient()\n",
            "3) CancelAll()\n",
            "4) CanDoctorGoHome()\n",
            "5) ShowAllPatient()\n",
            "6) ReverseTheLine()\n",
            "0) Exit()\n",
            "-------------------------------------------------------------\n",
            "Enter your choise here:5\n",
            "executing showAllPatient()...\n",
            "rahi,rizz,ahmed\n",
            "\n",
            "------------------------------------------------------------\n",
            "Please choose between 0 to 6 to perform any of the following:\n",
            "1) RegisterPatient()\n",
            "2) ServePatient()\n",
            "3) CancelAll()\n",
            "4) CanDoctorGoHome()\n",
            "5) ShowAllPatient()\n",
            "6) ReverseTheLine()\n",
            "0) Exit()\n",
            "-------------------------------------------------------------\n",
            "Enter your choise here:6\n",
            "executing ReverseTheLine()...\n",
            "Patient Register Successfully\n",
            "Patient Register Successfully\n",
            "Patient Register Successfully\n",
            "The line have been reversed\n",
            "------------------------------------------------------------\n",
            "Please choose between 0 to 6 to perform any of the following:\n",
            "1) RegisterPatient()\n",
            "2) ServePatient()\n",
            "3) CancelAll()\n",
            "4) CanDoctorGoHome()\n",
            "5) ShowAllPatient()\n",
            "6) ReverseTheLine()\n",
            "0) Exit()\n",
            "-------------------------------------------------------------\n",
            "Enter your choise here:5\n",
            "executing showAllPatient()...\n",
            "ahmed,rizz,rahi\n",
            "\n",
            "------------------------------------------------------------\n",
            "Please choose between 0 to 6 to perform any of the following:\n",
            "1) RegisterPatient()\n",
            "2) ServePatient()\n",
            "3) CancelAll()\n",
            "4) CanDoctorGoHome()\n",
            "5) ShowAllPatient()\n",
            "6) ReverseTheLine()\n",
            "0) Exit()\n",
            "-------------------------------------------------------------\n",
            "Enter your choise here:2\n",
            "executing servePatient()...\n",
            "ahmed has been Served\n",
            "------------------------------------------------------------\n",
            "Please choose between 0 to 6 to perform any of the following:\n",
            "1) RegisterPatient()\n",
            "2) ServePatient()\n",
            "3) CancelAll()\n",
            "4) CanDoctorGoHome()\n",
            "5) ShowAllPatient()\n",
            "6) ReverseTheLine()\n",
            "0) Exit()\n",
            "-------------------------------------------------------------\n",
            "Enter your choise here:4\n",
            "executing canDoctorGoHome()...\n",
            "No\n",
            "------------------------------------------------------------\n",
            "Please choose between 0 to 6 to perform any of the following:\n",
            "1) RegisterPatient()\n",
            "2) ServePatient()\n",
            "3) CancelAll()\n",
            "4) CanDoctorGoHome()\n",
            "5) ShowAllPatient()\n",
            "6) ReverseTheLine()\n",
            "0) Exit()\n",
            "-------------------------------------------------------------\n",
            "Enter your choise here:3\n",
            "executing cancelAll()...\n",
            "All appointments has/have been cancelled\n",
            "------------------------------------------------------------\n",
            "Please choose between 0 to 6 to perform any of the following:\n",
            "1) RegisterPatient()\n",
            "2) ServePatient()\n",
            "3) CancelAll()\n",
            "4) CanDoctorGoHome()\n",
            "5) ShowAllPatient()\n",
            "6) ReverseTheLine()\n",
            "0) Exit()\n",
            "-------------------------------------------------------------\n",
            "Enter your choise here:4\n",
            "executing canDoctorGoHome()...\n",
            "Yes\n",
            "------------------------------------------------------------\n",
            "Please choose between 0 to 6 to perform any of the following:\n",
            "1) RegisterPatient()\n",
            "2) ServePatient()\n",
            "3) CancelAll()\n",
            "4) CanDoctorGoHome()\n",
            "5) ShowAllPatient()\n",
            "6) ReverseTheLine()\n",
            "0) Exit()\n",
            "-------------------------------------------------------------\n",
            "Enter your choise here:0\n",
            "Thank You for choosing us, Take Care\n"
          ]
        }
      ]
    },
    {
      "cell_type": "markdown",
      "source": [
        "**Assignment Part 2: Stack**\n",
        "\n",
        "Linked List based Stack is implemented in the following cell."
      ],
      "metadata": {
        "id": "CJWd_j6YEnPn"
      }
    },
    {
      "cell_type": "code",
      "source": [
        "class Node:\n",
        "  def __init__(self,elem=None,next=None):\n",
        "    self.elem = elem\n",
        "    self.next = next\n",
        "\n",
        "class Stack:\n",
        "  def __init__(self):\n",
        "    self.__top = None\n",
        "\n",
        "  def push(self,elem):\n",
        "    nn = Node(elem,self.__top)\n",
        "    self.__top = nn\n",
        "\n",
        "  def pop(self):\n",
        "    if self.__top == None:\n",
        "      #print('Stack Underflow')\n",
        "      return None\n",
        "    e = self.__top\n",
        "    self.__top = self.__top.next\n",
        "    return e.elem\n",
        "\n",
        "  def peek(self):\n",
        "    if self.__top == None:\n",
        "      #print('Stack Underflow')\n",
        "      return None\n",
        "    return self.__top.elem\n",
        "\n",
        "  def isEmpty(self):\n",
        "    return self.__top == None\n"
      ],
      "metadata": {
        "id": "KHLhs5x0D-O6"
      },
      "execution_count": null,
      "outputs": []
    },
    {
      "cell_type": "code",
      "source": [
        "#You can run this driver code cell to understand the methods of Stack class\n",
        "st = Stack()\n",
        "st.push(4)\n",
        "st.push(3)\n",
        "st.push(5)\n",
        "st.push(1)\n",
        "st.push(9)\n",
        "\n",
        "print('Peeked Element: ',st.peek())\n",
        "print('Popped Element: ',st.pop())\n",
        "print('Popped Element: ',st.pop())\n",
        "print('Popped Element: ',st.pop())\n",
        "print('Peeked Element: ',st.peek())\n",
        "print('Popped Element: ',st.pop())\n",
        "print('Popped Element: ',st.pop())\n",
        "print('Peeked Element: ',st.peek())\n",
        "print('Popped Element: ',st.pop())\n",
        "print(st.isEmpty())"
      ],
      "metadata": {
        "id": "4XkuMA7gEjE7",
        "colab": {
          "base_uri": "https://localhost:8080/"
        },
        "outputId": "919dadfc-103e-4dc2-f0c4-c2ebdeed70f7"
      },
      "execution_count": null,
      "outputs": [
        {
          "output_type": "stream",
          "name": "stdout",
          "text": [
            "Peeked Element:  9\n",
            "Popped Element:  9\n",
            "Popped Element:  1\n",
            "Popped Element:  5\n",
            "Peeked Element:  3\n",
            "Popped Element:  3\n",
            "Popped Element:  4\n",
            "Peeked Element:  None\n",
            "Popped Element:  None\n",
            "True\n"
          ]
        }
      ]
    },
    {
      "cell_type": "markdown",
      "source": [
        "You can print your stack using this code segment"
      ],
      "metadata": {
        "id": "xrfONLccG9Gi"
      }
    },
    {
      "cell_type": "code",
      "source": [
        "def print_stack(st):\n",
        "  if st.isEmpty():\n",
        "    return\n",
        "  p = st.pop()\n",
        "  print('|',p,end=' ')\n",
        "  if p<10:\n",
        "    print(' |')\n",
        "  else:\n",
        "    print('|')\n",
        "  #print('------')\n",
        "  print_stack(st)\n",
        "  st.push(p)\n",
        "\n",
        "st = Stack()\n",
        "st.push(4)\n",
        "st.push(3)\n",
        "st.push(5)\n",
        "st.push(1)\n",
        "st.push(9)\n",
        "print_stack(st)\n",
        "print('------')"
      ],
      "metadata": {
        "id": "S-EembO_GsWA",
        "colab": {
          "base_uri": "https://localhost:8080/"
        },
        "outputId": "d0181013-b7bf-4d34-ebb3-fe4de8c15924"
      },
      "execution_count": null,
      "outputs": [
        {
          "output_type": "stream",
          "name": "stdout",
          "text": [
            "| 9  |\n",
            "| 1  |\n",
            "| 5  |\n",
            "| 3  |\n",
            "| 4  |\n",
            "------\n"
          ]
        }
      ]
    },
    {
      "cell_type": "markdown",
      "source": [
        "Task 1: Diamond Count"
      ],
      "metadata": {
        "id": "iNMnfqqpIga2"
      }
    },
    {
      "cell_type": "code",
      "source": [
        "def diamond_count(stack,string):\n",
        "  dimCount=0\n",
        "  for i in range (len(string)):\n",
        "    if string[i]==\"<\":\n",
        "      stack.push(string[i])\n",
        "    elif string[i]==\">\":\n",
        "      if stack.isEmpty()!=True:\n",
        "        stack.pop()\n",
        "        dimCount+=1\n",
        "  return dimCount\n",
        "\n",
        "\n",
        "\n",
        "print('Test 01')\n",
        "stack = Stack()\n",
        "string = '<..><.<..>> '\n",
        "returned_value = diamond_count(stack,string)\n",
        "print(f'Number of Diamonds: {returned_value}') #This should print 3\n",
        "unittest.output_test(returned_value, 3)\n",
        "print('-----------------------------------------')\n",
        "\n",
        "\n",
        "print('Test 02')\n",
        "stack = Stack()\n",
        "string = '<<<..<......<<<<....>'\n",
        "returned_value = diamond_count(stack,string)\n",
        "print(f'Number of Diamonds: {returned_value}') #This should print 1\n",
        "unittest.output_test(returned_value, 1)\n",
        "print('-----------------------------------------')\n",
        "\n",
        "\n",
        "print('Test 03')\n",
        "stack = Stack()\n",
        "string = '>>><...<<..>>...>...>>>'\n",
        "returned_value = diamond_count(stack,string)\n",
        "print(f'Number of Diamonds: {returned_value}') #This should print 3\n",
        "unittest.output_test(returned_value, 3)\n",
        "print('-----------------------------------------')"
      ],
      "metadata": {
        "id": "GnX70OIvG_gZ",
        "colab": {
          "base_uri": "https://localhost:8080/"
        },
        "outputId": "3182fd24-3d87-44b2-8bb7-71d45c2e559f"
      },
      "execution_count": null,
      "outputs": [
        {
          "output_type": "stream",
          "name": "stdout",
          "text": [
            "Test 01\n",
            "Number of Diamonds: 3\n",
            "Accepted\n",
            "-----------------------------------------\n",
            "Test 02\n",
            "Number of Diamonds: 1\n",
            "Accepted\n",
            "-----------------------------------------\n",
            "Test 03\n",
            "Number of Diamonds: 3\n",
            "Accepted\n",
            "-----------------------------------------\n"
          ]
        }
      ]
    },
    {
      "cell_type": "markdown",
      "source": [
        "Task 2: Tower of Blocks"
      ],
      "metadata": {
        "id": "PhCF3SZ6IX5g"
      }
    },
    {
      "cell_type": "code",
      "source": [
        "def remove_block(stack, n):\n",
        "  st=Stack()\n",
        "  tempElem=0\n",
        "  count=0\n",
        "  length=0\n",
        "  while stack.isEmpty()!=True:\n",
        "    length+=1\n",
        "    tempElem=stack.pop()\n",
        "    st.push(tempElem)\n",
        "\n",
        "  tempElem=0\n",
        "  length-=n\n",
        "  while st.isEmpty()!=True:\n",
        "    if count==length:\n",
        "      st.pop()\n",
        "    else:\n",
        "      tempElem=st.pop()\n",
        "      stack.push(tempElem)\n",
        "    count+=1\n",
        "  return stack\n",
        "\n",
        "\n",
        "print('Test 01')\n",
        "st = Stack()\n",
        "st.push(4)\n",
        "st.push(19)\n",
        "st.push(23)\n",
        "st.push(17)\n",
        "st.push(5)\n",
        "print('Stack:')\n",
        "print_stack(st)\n",
        "print('------')\n",
        "remove_block(st,2)\n",
        "print('After Removal')\n",
        "print_stack(st)\n",
        "print('------')\n",
        "\n",
        "print()\n",
        "print('======================================')\n",
        "print()\n",
        "\n",
        "print('Test 02')\n",
        "st = Stack()\n",
        "st.push(73)\n",
        "st.push(85)\n",
        "st.push(15)\n",
        "st.push(41)\n",
        "print('Stack:')\n",
        "print_stack(st)\n",
        "print('------')\n",
        "remove_block(st,3)\n",
        "print('After Removal')\n",
        "print_stack(st)\n",
        "print('------')\n",
        "\n",
        "print()\n",
        "print('======================================')\n",
        "print()"
      ],
      "metadata": {
        "id": "W3N4q7YAHExr",
        "colab": {
          "base_uri": "https://localhost:8080/"
        },
        "outputId": "62f7b661-8ad9-44fa-d824-85e767d913e2"
      },
      "execution_count": null,
      "outputs": [
        {
          "output_type": "stream",
          "name": "stdout",
          "text": [
            "Test 01\n",
            "Stack:\n",
            "| 5  |\n",
            "| 17 |\n",
            "| 23 |\n",
            "| 19 |\n",
            "| 4  |\n",
            "------\n",
            "After Removal\n",
            "| 5  |\n",
            "| 23 |\n",
            "| 19 |\n",
            "| 4  |\n",
            "------\n",
            "\n",
            "======================================\n",
            "\n",
            "Test 02\n",
            "Stack:\n",
            "| 41 |\n",
            "| 15 |\n",
            "| 85 |\n",
            "| 73 |\n",
            "------\n",
            "After Removal\n",
            "| 41 |\n",
            "| 15 |\n",
            "| 73 |\n",
            "------\n",
            "\n",
            "======================================\n",
            "\n"
          ]
        }
      ]
    },
    {
      "cell_type": "markdown",
      "source": [
        "Task 3: Stack Reverse"
      ],
      "metadata": {
        "id": "jcngRuqUWOfl"
      }
    },
    {
      "cell_type": "code",
      "source": [
        "def conditional_reverse(stack):\n",
        "  st=Stack()\n",
        "  tempElem=0\n",
        "  while stack.isEmpty()!=True:\n",
        "    if st.peek()==None:\n",
        "      tempElem=stack.pop()\n",
        "      st.push(tempElem)\n",
        "      tempElem=0\n",
        "    elif st.peek()!=stack.peek():\n",
        "      tempElem=stack.pop()\n",
        "      st.push(tempElem)\n",
        "      tempElem=0\n",
        "    else:\n",
        "      stack.pop()\n",
        "  return st\n",
        "\n",
        "\n",
        "print('Test 01')\n",
        "st=Stack()\n",
        "st.push(10)\n",
        "st.push(10)\n",
        "st.push(20)\n",
        "st.push(20)\n",
        "st.push(30)\n",
        "st.push(10)\n",
        "st.push(50)\n",
        "print('Stack:')\n",
        "print_stack(st)\n",
        "print('------')\n",
        "reversed_stack=conditional_reverse(st)\n",
        "print('Conditional Reversed Stack:')\n",
        "print_stack(reversed_stack) # This stack contains 50, 10, 30, 20, 10 in this order whereas top element should be 10\n",
        "print('------')"
      ],
      "metadata": {
        "id": "gLSgfDKPWPnP",
        "colab": {
          "base_uri": "https://localhost:8080/"
        },
        "outputId": "13d73d74-370a-4840-aa79-66492d68c782"
      },
      "execution_count": null,
      "outputs": [
        {
          "output_type": "stream",
          "name": "stdout",
          "text": [
            "Test 01\n",
            "Stack:\n",
            "| 50 |\n",
            "| 10 |\n",
            "| 30 |\n",
            "| 20 |\n",
            "| 20 |\n",
            "| 10 |\n",
            "| 10 |\n",
            "------\n",
            "Conditional Reversed Stack:\n",
            "| 10 |\n",
            "| 20 |\n",
            "| 30 |\n",
            "| 10 |\n",
            "| 50 |\n",
            "------\n"
          ]
        }
      ]
    }
  ]
}