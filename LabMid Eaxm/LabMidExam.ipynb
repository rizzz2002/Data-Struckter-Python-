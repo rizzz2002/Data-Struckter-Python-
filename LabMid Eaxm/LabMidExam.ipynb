{
  "nbformat": 4,
  "nbformat_minor": 0,
  "metadata": {
    "colab": {
      "provenance": []
    },
    "kernelspec": {
      "name": "python3",
      "display_name": "Python 3"
    },
    "language_info": {
      "name": "python"
    }
  },
  "cells": [
    {
      "cell_type": "markdown",
      "source": [
        "# **Question 1: Linked List Summation Filter**\n",
        "You have come to join your lab midterm and now you are faced with a coding challenge which is based on linked list. You want to gain full marks for this evaluation, so you decide to read the question with full focus. Given a singly linked list of integers, the question asks you to complete the given function filter_list(head) - that takes the head of a singly linked list as its input and returns the head of a new linked list as its output. The new linked list should contain only those elements from the original list where the sum of two consecutive elements is greater than or equal to a threshold value. The threshold value is determined by multiplying the length of the original linked list by 3. To summarize, you need to:\n",
        "\n",
        "1.   Calculate the length of the provided list to determine the threshold. Threshold = 3 * length.\n",
        "2. Then, iterate through the list for checking the sum of each pair of consecutive elements against the threshold.\n",
        "3. If the sum is greater than or equal to the threshold, those elements will be added to a new linked list, which will be returned by the function\n",
        "\n",
        "\n",
        "---\n",
        "\n",
        "\n",
        "Sample input 1: 2 -> 7 -> 12 -> 13 -> 6 -> 5\n",
        "\n",
        "Sample output 1: 7 -> 12 -> 13 -> 6\n",
        "\n",
        "Explanation 1:\n",
        "Here, threshold = 6 (length of the list is 6) * 3 = 18.\n",
        "The output is 7 -> 12 -> 13 -> 6 since:\n",
        "7+12 = 19 which is >= 18\n",
        "12+13 = 25 which is >= 18\n",
        "13+6 = 19 which is >= 18\n",
        "\n",
        "\n",
        "---\n",
        "\n",
        "\n",
        "Sample input 2: 7 -> 3 -> 1 -> 14\n",
        "\n",
        "Sample output 2: 1 -> 14\n",
        "\n",
        "Explanation 2:\n",
        "Here, threshold = 4 (length of the list is 4) * 3 = 12.\n",
        "The output is 1 -> 14 since:\n",
        "1+14 = 15 which is >= 12"
      ],
      "metadata": {
        "id": "fCIazfig29_1"
      }
    },
    {
      "cell_type": "code",
      "source": [
        "#You are not allowed to edit this cell\n",
        "#Run the this cell before running your code\n",
        "import numpy as np\n",
        "\n",
        "class Node:\n",
        "  def __init__(self,elem,next = None):\n",
        "    self.elem,self.next = elem,next\n",
        "\n",
        "def createList(arr):\n",
        "  head = Node(arr[0])\n",
        "  tail = head\n",
        "  for i in range(1,len(arr)):\n",
        "    newNode = Node(arr[i])\n",
        "    tail.next = newNode\n",
        "    tail = newNode\n",
        "  return head\n",
        "\n",
        "def printLinkedList(head):\n",
        "  temp = head\n",
        "  while temp != None:\n",
        "    if temp.next != None:\n",
        "      print(temp.elem, end = '-->')\n",
        "    else:\n",
        "      print(temp.elem)\n",
        "    temp = temp.next\n",
        "  print()\n"
      ],
      "metadata": {
        "id": "p_IFfWecZqDc"
      },
      "execution_count": 1,
      "outputs": []
    },
    {
      "cell_type": "code",
      "source": [
        "def filter_list(head):\n",
        "    length=0\n",
        "    temp=head\n",
        "    while temp!=None:\n",
        "      length+=1\n",
        "      temp=temp.next\n",
        "    sum1=length*3\n",
        "    temp1=head\n",
        "    checkSum=0\n",
        "    newHead=None\n",
        "    tail=None\n",
        "    while temp1.next!=None:\n",
        "      checkSum=temp1.elem+temp1.next.elem\n",
        "      if checkSum>=sum1:\n",
        "        if newHead==None:\n",
        "          newHead=Node(temp1.elem)\n",
        "          tail=newHead\n",
        "          tail.next=Node(temp1.next.elem)\n",
        "          tail=tail.next\n",
        "          checkSum=0\n",
        "        else:\n",
        "          if tail.elem!=temp1.elem:\n",
        "            tail.next=Node(temp1.elem)\n",
        "            tail=tail.next\n",
        "            tail.next=Node(temp1.next.elem)\n",
        "            checkSum=0\n",
        "      temp1=temp1.next\n",
        "    return newHead"
      ],
      "metadata": {
        "id": "kPpgyNWcfUFa"
      },
      "execution_count": 2,
      "outputs": []
    },
    {
      "cell_type": "code",
      "source": [
        "#You are not allowed to edit this cell\n",
        "#Run this cell to test your code\n",
        "head = createList(np.array([2, 7, 12, 13, 6, 5]))\n",
        "printLinkedList(head)\n",
        "\n",
        "result = filter_list(head)\n",
        "print(\"Returned List:\")\n",
        "printLinkedList(result)\n",
        "#This should print\n",
        "#7->12->13->6\n",
        "\n",
        "print(\".....................\")\n",
        "head = createList(np.array([7, 3, 1, 14]))\n",
        "printLinkedList(head)\n",
        "\n",
        "result = filter_list(head)\n",
        "print(\"Returned List:\")\n",
        "printLinkedList(result)\n",
        "#This should print\n",
        "#1->14"
      ],
      "metadata": {
        "id": "PrjcWTo924Lm",
        "colab": {
          "base_uri": "https://localhost:8080/"
        },
        "outputId": "eacbbeda-8975-4165-a87b-f151bf5e7e39"
      },
      "execution_count": 3,
      "outputs": [
        {
          "output_type": "stream",
          "name": "stdout",
          "text": [
            "2-->7-->12-->13-->6-->5\n",
            "\n",
            "Returned List:\n",
            "7-->12-->13-->6\n",
            "\n",
            ".....................\n",
            "7-->3-->1-->14\n",
            "\n",
            "Returned List:\n",
            "1-->14\n",
            "\n"
          ]
        }
      ]
    },
    {
      "cell_type": "markdown",
      "source": [],
      "metadata": {
        "id": "azUJLyoSUkux"
      }
    },
    {
      "cell_type": "markdown",
      "source": [
        "Question 2: Given 2 matrices A (m x n) and B (p x m) [The picture is an example given for understanding]![Picture1.png](data:image/png;base64,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), Your job is to sum the elements of the first row of A then add it to the summation of the first column of B, then sum the elements of the second row of A subtract it from the summation of the second column of B. The alternate addition and subtration of the rows of A with the columns of B will continue till the end of the matrices. The result of each step must be saved in an array."
      ],
      "metadata": {
        "id": "rVNyHLAiRG4r"
      }
    },
    {
      "cell_type": "code",
      "source": [
        "def matrixFun(A,B):\n",
        "  rowA=len(A[0])\n",
        "  colA=len(A)\n",
        "  rowB=len(B[0])\n",
        "  colB=len(B)\n",
        "  result=np.array([0]*rowA)\n",
        "  sum=0\n",
        "  for i in range (rowA):\n",
        "    for y in range (colB):\n",
        "      if y<rowA:\n",
        "        sum+=A[i][y]\n",
        "      if y<colB:\n",
        "        sum+=B[y][i]\n",
        "    result[i]=sum\n",
        "    sum=0\n",
        "  print(result)"
      ],
      "metadata": {
        "id": "L3FY9vNJUtah"
      },
      "execution_count": 4,
      "outputs": []
    },
    {
      "cell_type": "code",
      "source": [
        "# Do not edit this piece of code\n",
        "import numpy as np\n",
        "A = np.array([[1,2,3],[4,5,6],[7,8,9]])\n",
        "B = np.array([[10,20,30],[40,50,60],[70,80,90],[100,200,300]])\n",
        "result = matrixFun(A,B)"
      ],
      "metadata": {
        "id": "8hVHq814U9Fw",
        "colab": {
          "base_uri": "https://localhost:8080/"
        },
        "outputId": "0641b124-1cec-4343-c40c-8ce2f757561e"
      },
      "execution_count": 5,
      "outputs": [
        {
          "output_type": "stream",
          "name": "stdout",
          "text": [
            "[226 365 504]\n"
          ]
        }
      ]
    }
  ]
}